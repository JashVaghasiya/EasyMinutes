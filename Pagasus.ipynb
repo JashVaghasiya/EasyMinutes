{
  "nbformat": 4,
  "nbformat_minor": 0,
  "metadata": {
    "colab": {
      "provenance": [],
      "gpuType": "V100",
      "machine_shape": "hm"
    },
    "kernelspec": {
      "name": "python3",
      "display_name": "Python 3"
    },
    "language_info": {
      "name": "python"
    },
    "accelerator": "GPU",
    "widgets": {
      "application/vnd.jupyter.widget-state+json": {
        "885a4f1193724917b1e83798f6ec6e0b": {
          "model_module": "@jupyter-widgets/controls",
          "model_name": "HBoxModel",
          "model_module_version": "1.5.0",
          "state": {
            "_dom_classes": [],
            "_model_module": "@jupyter-widgets/controls",
            "_model_module_version": "1.5.0",
            "_model_name": "HBoxModel",
            "_view_count": null,
            "_view_module": "@jupyter-widgets/controls",
            "_view_module_version": "1.5.0",
            "_view_name": "HBoxView",
            "box_style": "",
            "children": [
              "IPY_MODEL_aca588e1a74946a3ba7389e8c9e1cea9",
              "IPY_MODEL_ac562d1ec4d54d909fb7f4f07625763a",
              "IPY_MODEL_b3798e531a864ed5a0716b4633b16e96"
            ],
            "layout": "IPY_MODEL_9ca272622419493b9c5c40c4ceeafa70"
          }
        },
        "aca588e1a74946a3ba7389e8c9e1cea9": {
          "model_module": "@jupyter-widgets/controls",
          "model_name": "HTMLModel",
          "model_module_version": "1.5.0",
          "state": {
            "_dom_classes": [],
            "_model_module": "@jupyter-widgets/controls",
            "_model_module_version": "1.5.0",
            "_model_name": "HTMLModel",
            "_view_count": null,
            "_view_module": "@jupyter-widgets/controls",
            "_view_module_version": "1.5.0",
            "_view_name": "HTMLView",
            "description": "",
            "description_tooltip": null,
            "layout": "IPY_MODEL_2745fa2abe584e5d9f80dffdd4bd0e86",
            "placeholder": "​",
            "style": "IPY_MODEL_2f5f009c88e94d08a734314e82b82d72",
            "value": "Map: 100%"
          }
        },
        "ac562d1ec4d54d909fb7f4f07625763a": {
          "model_module": "@jupyter-widgets/controls",
          "model_name": "FloatProgressModel",
          "model_module_version": "1.5.0",
          "state": {
            "_dom_classes": [],
            "_model_module": "@jupyter-widgets/controls",
            "_model_module_version": "1.5.0",
            "_model_name": "FloatProgressModel",
            "_view_count": null,
            "_view_module": "@jupyter-widgets/controls",
            "_view_module_version": "1.5.0",
            "_view_name": "ProgressView",
            "bar_style": "success",
            "description": "",
            "description_tooltip": null,
            "layout": "IPY_MODEL_2e6d96a8b25f42b19badd9a825507b3f",
            "max": 75,
            "min": 0,
            "orientation": "horizontal",
            "style": "IPY_MODEL_570e9edd75c94aad970428a1c58cb025",
            "value": 75
          }
        },
        "b3798e531a864ed5a0716b4633b16e96": {
          "model_module": "@jupyter-widgets/controls",
          "model_name": "HTMLModel",
          "model_module_version": "1.5.0",
          "state": {
            "_dom_classes": [],
            "_model_module": "@jupyter-widgets/controls",
            "_model_module_version": "1.5.0",
            "_model_name": "HTMLModel",
            "_view_count": null,
            "_view_module": "@jupyter-widgets/controls",
            "_view_module_version": "1.5.0",
            "_view_name": "HTMLView",
            "description": "",
            "description_tooltip": null,
            "layout": "IPY_MODEL_6e658e7c627046078afdf55367dd3179",
            "placeholder": "​",
            "style": "IPY_MODEL_7a92aeecc0874fcf8ed0f56ca11c6e57",
            "value": " 75/75 [00:00&lt;00:00, 214.86 examples/s]"
          }
        },
        "9ca272622419493b9c5c40c4ceeafa70": {
          "model_module": "@jupyter-widgets/base",
          "model_name": "LayoutModel",
          "model_module_version": "1.2.0",
          "state": {
            "_model_module": "@jupyter-widgets/base",
            "_model_module_version": "1.2.0",
            "_model_name": "LayoutModel",
            "_view_count": null,
            "_view_module": "@jupyter-widgets/base",
            "_view_module_version": "1.2.0",
            "_view_name": "LayoutView",
            "align_content": null,
            "align_items": null,
            "align_self": null,
            "border": null,
            "bottom": null,
            "display": null,
            "flex": null,
            "flex_flow": null,
            "grid_area": null,
            "grid_auto_columns": null,
            "grid_auto_flow": null,
            "grid_auto_rows": null,
            "grid_column": null,
            "grid_gap": null,
            "grid_row": null,
            "grid_template_areas": null,
            "grid_template_columns": null,
            "grid_template_rows": null,
            "height": null,
            "justify_content": null,
            "justify_items": null,
            "left": null,
            "margin": null,
            "max_height": null,
            "max_width": null,
            "min_height": null,
            "min_width": null,
            "object_fit": null,
            "object_position": null,
            "order": null,
            "overflow": null,
            "overflow_x": null,
            "overflow_y": null,
            "padding": null,
            "right": null,
            "top": null,
            "visibility": null,
            "width": null
          }
        },
        "2745fa2abe584e5d9f80dffdd4bd0e86": {
          "model_module": "@jupyter-widgets/base",
          "model_name": "LayoutModel",
          "model_module_version": "1.2.0",
          "state": {
            "_model_module": "@jupyter-widgets/base",
            "_model_module_version": "1.2.0",
            "_model_name": "LayoutModel",
            "_view_count": null,
            "_view_module": "@jupyter-widgets/base",
            "_view_module_version": "1.2.0",
            "_view_name": "LayoutView",
            "align_content": null,
            "align_items": null,
            "align_self": null,
            "border": null,
            "bottom": null,
            "display": null,
            "flex": null,
            "flex_flow": null,
            "grid_area": null,
            "grid_auto_columns": null,
            "grid_auto_flow": null,
            "grid_auto_rows": null,
            "grid_column": null,
            "grid_gap": null,
            "grid_row": null,
            "grid_template_areas": null,
            "grid_template_columns": null,
            "grid_template_rows": null,
            "height": null,
            "justify_content": null,
            "justify_items": null,
            "left": null,
            "margin": null,
            "max_height": null,
            "max_width": null,
            "min_height": null,
            "min_width": null,
            "object_fit": null,
            "object_position": null,
            "order": null,
            "overflow": null,
            "overflow_x": null,
            "overflow_y": null,
            "padding": null,
            "right": null,
            "top": null,
            "visibility": null,
            "width": null
          }
        },
        "2f5f009c88e94d08a734314e82b82d72": {
          "model_module": "@jupyter-widgets/controls",
          "model_name": "DescriptionStyleModel",
          "model_module_version": "1.5.0",
          "state": {
            "_model_module": "@jupyter-widgets/controls",
            "_model_module_version": "1.5.0",
            "_model_name": "DescriptionStyleModel",
            "_view_count": null,
            "_view_module": "@jupyter-widgets/base",
            "_view_module_version": "1.2.0",
            "_view_name": "StyleView",
            "description_width": ""
          }
        },
        "2e6d96a8b25f42b19badd9a825507b3f": {
          "model_module": "@jupyter-widgets/base",
          "model_name": "LayoutModel",
          "model_module_version": "1.2.0",
          "state": {
            "_model_module": "@jupyter-widgets/base",
            "_model_module_version": "1.2.0",
            "_model_name": "LayoutModel",
            "_view_count": null,
            "_view_module": "@jupyter-widgets/base",
            "_view_module_version": "1.2.0",
            "_view_name": "LayoutView",
            "align_content": null,
            "align_items": null,
            "align_self": null,
            "border": null,
            "bottom": null,
            "display": null,
            "flex": null,
            "flex_flow": null,
            "grid_area": null,
            "grid_auto_columns": null,
            "grid_auto_flow": null,
            "grid_auto_rows": null,
            "grid_column": null,
            "grid_gap": null,
            "grid_row": null,
            "grid_template_areas": null,
            "grid_template_columns": null,
            "grid_template_rows": null,
            "height": null,
            "justify_content": null,
            "justify_items": null,
            "left": null,
            "margin": null,
            "max_height": null,
            "max_width": null,
            "min_height": null,
            "min_width": null,
            "object_fit": null,
            "object_position": null,
            "order": null,
            "overflow": null,
            "overflow_x": null,
            "overflow_y": null,
            "padding": null,
            "right": null,
            "top": null,
            "visibility": null,
            "width": null
          }
        },
        "570e9edd75c94aad970428a1c58cb025": {
          "model_module": "@jupyter-widgets/controls",
          "model_name": "ProgressStyleModel",
          "model_module_version": "1.5.0",
          "state": {
            "_model_module": "@jupyter-widgets/controls",
            "_model_module_version": "1.5.0",
            "_model_name": "ProgressStyleModel",
            "_view_count": null,
            "_view_module": "@jupyter-widgets/base",
            "_view_module_version": "1.2.0",
            "_view_name": "StyleView",
            "bar_color": null,
            "description_width": ""
          }
        },
        "6e658e7c627046078afdf55367dd3179": {
          "model_module": "@jupyter-widgets/base",
          "model_name": "LayoutModel",
          "model_module_version": "1.2.0",
          "state": {
            "_model_module": "@jupyter-widgets/base",
            "_model_module_version": "1.2.0",
            "_model_name": "LayoutModel",
            "_view_count": null,
            "_view_module": "@jupyter-widgets/base",
            "_view_module_version": "1.2.0",
            "_view_name": "LayoutView",
            "align_content": null,
            "align_items": null,
            "align_self": null,
            "border": null,
            "bottom": null,
            "display": null,
            "flex": null,
            "flex_flow": null,
            "grid_area": null,
            "grid_auto_columns": null,
            "grid_auto_flow": null,
            "grid_auto_rows": null,
            "grid_column": null,
            "grid_gap": null,
            "grid_row": null,
            "grid_template_areas": null,
            "grid_template_columns": null,
            "grid_template_rows": null,
            "height": null,
            "justify_content": null,
            "justify_items": null,
            "left": null,
            "margin": null,
            "max_height": null,
            "max_width": null,
            "min_height": null,
            "min_width": null,
            "object_fit": null,
            "object_position": null,
            "order": null,
            "overflow": null,
            "overflow_x": null,
            "overflow_y": null,
            "padding": null,
            "right": null,
            "top": null,
            "visibility": null,
            "width": null
          }
        },
        "7a92aeecc0874fcf8ed0f56ca11c6e57": {
          "model_module": "@jupyter-widgets/controls",
          "model_name": "DescriptionStyleModel",
          "model_module_version": "1.5.0",
          "state": {
            "_model_module": "@jupyter-widgets/controls",
            "_model_module_version": "1.5.0",
            "_model_name": "DescriptionStyleModel",
            "_view_count": null,
            "_view_module": "@jupyter-widgets/base",
            "_view_module_version": "1.2.0",
            "_view_name": "StyleView",
            "description_width": ""
          }
        },
        "d68a752cd2b941b4ab6dcb0aa0d97492": {
          "model_module": "@jupyter-widgets/controls",
          "model_name": "HBoxModel",
          "model_module_version": "1.5.0",
          "state": {
            "_dom_classes": [],
            "_model_module": "@jupyter-widgets/controls",
            "_model_module_version": "1.5.0",
            "_model_name": "HBoxModel",
            "_view_count": null,
            "_view_module": "@jupyter-widgets/controls",
            "_view_module_version": "1.5.0",
            "_view_name": "HBoxView",
            "box_style": "",
            "children": [
              "IPY_MODEL_335d7f55ff854a19bd25600a91043a5d",
              "IPY_MODEL_d1c871c6cd7346f48f43acfa1c529cc1",
              "IPY_MODEL_b4f8ac295fea4cc4b7ea0809b934ea46"
            ],
            "layout": "IPY_MODEL_d6f4688a417e4d8688328f47d7a6adc1"
          }
        },
        "335d7f55ff854a19bd25600a91043a5d": {
          "model_module": "@jupyter-widgets/controls",
          "model_name": "HTMLModel",
          "model_module_version": "1.5.0",
          "state": {
            "_dom_classes": [],
            "_model_module": "@jupyter-widgets/controls",
            "_model_module_version": "1.5.0",
            "_model_name": "HTMLModel",
            "_view_count": null,
            "_view_module": "@jupyter-widgets/controls",
            "_view_module_version": "1.5.0",
            "_view_name": "HTMLView",
            "description": "",
            "description_tooltip": null,
            "layout": "IPY_MODEL_35ab7918a2f14dae96ee479b8266fb9d",
            "placeholder": "​",
            "style": "IPY_MODEL_4383d9a7f3be4a7781927a4dcb218ef2",
            "value": "Map: 100%"
          }
        },
        "d1c871c6cd7346f48f43acfa1c529cc1": {
          "model_module": "@jupyter-widgets/controls",
          "model_name": "FloatProgressModel",
          "model_module_version": "1.5.0",
          "state": {
            "_dom_classes": [],
            "_model_module": "@jupyter-widgets/controls",
            "_model_module_version": "1.5.0",
            "_model_name": "FloatProgressModel",
            "_view_count": null,
            "_view_module": "@jupyter-widgets/controls",
            "_view_module_version": "1.5.0",
            "_view_name": "ProgressView",
            "bar_style": "success",
            "description": "",
            "description_tooltip": null,
            "layout": "IPY_MODEL_230d17395ef644f7882f4a3b7c5ae5a3",
            "max": 10,
            "min": 0,
            "orientation": "horizontal",
            "style": "IPY_MODEL_6649415381354b79b9be2d26886b75c7",
            "value": 10
          }
        },
        "b4f8ac295fea4cc4b7ea0809b934ea46": {
          "model_module": "@jupyter-widgets/controls",
          "model_name": "HTMLModel",
          "model_module_version": "1.5.0",
          "state": {
            "_dom_classes": [],
            "_model_module": "@jupyter-widgets/controls",
            "_model_module_version": "1.5.0",
            "_model_name": "HTMLModel",
            "_view_count": null,
            "_view_module": "@jupyter-widgets/controls",
            "_view_module_version": "1.5.0",
            "_view_name": "HTMLView",
            "description": "",
            "description_tooltip": null,
            "layout": "IPY_MODEL_efa77fd85e3a418b995e6f2c10cc6e4a",
            "placeholder": "​",
            "style": "IPY_MODEL_ee02b83456f14cb4a136ede3d89ad0a8",
            "value": " 10/10 [00:00&lt;00:00, 148.48 examples/s]"
          }
        },
        "d6f4688a417e4d8688328f47d7a6adc1": {
          "model_module": "@jupyter-widgets/base",
          "model_name": "LayoutModel",
          "model_module_version": "1.2.0",
          "state": {
            "_model_module": "@jupyter-widgets/base",
            "_model_module_version": "1.2.0",
            "_model_name": "LayoutModel",
            "_view_count": null,
            "_view_module": "@jupyter-widgets/base",
            "_view_module_version": "1.2.0",
            "_view_name": "LayoutView",
            "align_content": null,
            "align_items": null,
            "align_self": null,
            "border": null,
            "bottom": null,
            "display": null,
            "flex": null,
            "flex_flow": null,
            "grid_area": null,
            "grid_auto_columns": null,
            "grid_auto_flow": null,
            "grid_auto_rows": null,
            "grid_column": null,
            "grid_gap": null,
            "grid_row": null,
            "grid_template_areas": null,
            "grid_template_columns": null,
            "grid_template_rows": null,
            "height": null,
            "justify_content": null,
            "justify_items": null,
            "left": null,
            "margin": null,
            "max_height": null,
            "max_width": null,
            "min_height": null,
            "min_width": null,
            "object_fit": null,
            "object_position": null,
            "order": null,
            "overflow": null,
            "overflow_x": null,
            "overflow_y": null,
            "padding": null,
            "right": null,
            "top": null,
            "visibility": null,
            "width": null
          }
        },
        "35ab7918a2f14dae96ee479b8266fb9d": {
          "model_module": "@jupyter-widgets/base",
          "model_name": "LayoutModel",
          "model_module_version": "1.2.0",
          "state": {
            "_model_module": "@jupyter-widgets/base",
            "_model_module_version": "1.2.0",
            "_model_name": "LayoutModel",
            "_view_count": null,
            "_view_module": "@jupyter-widgets/base",
            "_view_module_version": "1.2.0",
            "_view_name": "LayoutView",
            "align_content": null,
            "align_items": null,
            "align_self": null,
            "border": null,
            "bottom": null,
            "display": null,
            "flex": null,
            "flex_flow": null,
            "grid_area": null,
            "grid_auto_columns": null,
            "grid_auto_flow": null,
            "grid_auto_rows": null,
            "grid_column": null,
            "grid_gap": null,
            "grid_row": null,
            "grid_template_areas": null,
            "grid_template_columns": null,
            "grid_template_rows": null,
            "height": null,
            "justify_content": null,
            "justify_items": null,
            "left": null,
            "margin": null,
            "max_height": null,
            "max_width": null,
            "min_height": null,
            "min_width": null,
            "object_fit": null,
            "object_position": null,
            "order": null,
            "overflow": null,
            "overflow_x": null,
            "overflow_y": null,
            "padding": null,
            "right": null,
            "top": null,
            "visibility": null,
            "width": null
          }
        },
        "4383d9a7f3be4a7781927a4dcb218ef2": {
          "model_module": "@jupyter-widgets/controls",
          "model_name": "DescriptionStyleModel",
          "model_module_version": "1.5.0",
          "state": {
            "_model_module": "@jupyter-widgets/controls",
            "_model_module_version": "1.5.0",
            "_model_name": "DescriptionStyleModel",
            "_view_count": null,
            "_view_module": "@jupyter-widgets/base",
            "_view_module_version": "1.2.0",
            "_view_name": "StyleView",
            "description_width": ""
          }
        },
        "230d17395ef644f7882f4a3b7c5ae5a3": {
          "model_module": "@jupyter-widgets/base",
          "model_name": "LayoutModel",
          "model_module_version": "1.2.0",
          "state": {
            "_model_module": "@jupyter-widgets/base",
            "_model_module_version": "1.2.0",
            "_model_name": "LayoutModel",
            "_view_count": null,
            "_view_module": "@jupyter-widgets/base",
            "_view_module_version": "1.2.0",
            "_view_name": "LayoutView",
            "align_content": null,
            "align_items": null,
            "align_self": null,
            "border": null,
            "bottom": null,
            "display": null,
            "flex": null,
            "flex_flow": null,
            "grid_area": null,
            "grid_auto_columns": null,
            "grid_auto_flow": null,
            "grid_auto_rows": null,
            "grid_column": null,
            "grid_gap": null,
            "grid_row": null,
            "grid_template_areas": null,
            "grid_template_columns": null,
            "grid_template_rows": null,
            "height": null,
            "justify_content": null,
            "justify_items": null,
            "left": null,
            "margin": null,
            "max_height": null,
            "max_width": null,
            "min_height": null,
            "min_width": null,
            "object_fit": null,
            "object_position": null,
            "order": null,
            "overflow": null,
            "overflow_x": null,
            "overflow_y": null,
            "padding": null,
            "right": null,
            "top": null,
            "visibility": null,
            "width": null
          }
        },
        "6649415381354b79b9be2d26886b75c7": {
          "model_module": "@jupyter-widgets/controls",
          "model_name": "ProgressStyleModel",
          "model_module_version": "1.5.0",
          "state": {
            "_model_module": "@jupyter-widgets/controls",
            "_model_module_version": "1.5.0",
            "_model_name": "ProgressStyleModel",
            "_view_count": null,
            "_view_module": "@jupyter-widgets/base",
            "_view_module_version": "1.2.0",
            "_view_name": "StyleView",
            "bar_color": null,
            "description_width": ""
          }
        },
        "efa77fd85e3a418b995e6f2c10cc6e4a": {
          "model_module": "@jupyter-widgets/base",
          "model_name": "LayoutModel",
          "model_module_version": "1.2.0",
          "state": {
            "_model_module": "@jupyter-widgets/base",
            "_model_module_version": "1.2.0",
            "_model_name": "LayoutModel",
            "_view_count": null,
            "_view_module": "@jupyter-widgets/base",
            "_view_module_version": "1.2.0",
            "_view_name": "LayoutView",
            "align_content": null,
            "align_items": null,
            "align_self": null,
            "border": null,
            "bottom": null,
            "display": null,
            "flex": null,
            "flex_flow": null,
            "grid_area": null,
            "grid_auto_columns": null,
            "grid_auto_flow": null,
            "grid_auto_rows": null,
            "grid_column": null,
            "grid_gap": null,
            "grid_row": null,
            "grid_template_areas": null,
            "grid_template_columns": null,
            "grid_template_rows": null,
            "height": null,
            "justify_content": null,
            "justify_items": null,
            "left": null,
            "margin": null,
            "max_height": null,
            "max_width": null,
            "min_height": null,
            "min_width": null,
            "object_fit": null,
            "object_position": null,
            "order": null,
            "overflow": null,
            "overflow_x": null,
            "overflow_y": null,
            "padding": null,
            "right": null,
            "top": null,
            "visibility": null,
            "width": null
          }
        },
        "ee02b83456f14cb4a136ede3d89ad0a8": {
          "model_module": "@jupyter-widgets/controls",
          "model_name": "DescriptionStyleModel",
          "model_module_version": "1.5.0",
          "state": {
            "_model_module": "@jupyter-widgets/controls",
            "_model_module_version": "1.5.0",
            "_model_name": "DescriptionStyleModel",
            "_view_count": null,
            "_view_module": "@jupyter-widgets/base",
            "_view_module_version": "1.2.0",
            "_view_name": "StyleView",
            "description_width": ""
          }
        },
        "6cd6a720684a4ab9ad3a854b8e9b378f": {
          "model_module": "@jupyter-widgets/controls",
          "model_name": "HBoxModel",
          "model_module_version": "1.5.0",
          "state": {
            "_dom_classes": [],
            "_model_module": "@jupyter-widgets/controls",
            "_model_module_version": "1.5.0",
            "_model_name": "HBoxModel",
            "_view_count": null,
            "_view_module": "@jupyter-widgets/controls",
            "_view_module_version": "1.5.0",
            "_view_name": "HBoxView",
            "box_style": "",
            "children": [
              "IPY_MODEL_d8da7a6bcbc74159a4224a1ea4d071b3",
              "IPY_MODEL_5975edae349847ab8cb4c95967804a77",
              "IPY_MODEL_3d945797be6a40b6911a1c4cbdf99f7a"
            ],
            "layout": "IPY_MODEL_9af6493cbb7e43e8a707f1a26e7774be"
          }
        },
        "d8da7a6bcbc74159a4224a1ea4d071b3": {
          "model_module": "@jupyter-widgets/controls",
          "model_name": "HTMLModel",
          "model_module_version": "1.5.0",
          "state": {
            "_dom_classes": [],
            "_model_module": "@jupyter-widgets/controls",
            "_model_module_version": "1.5.0",
            "_model_name": "HTMLModel",
            "_view_count": null,
            "_view_module": "@jupyter-widgets/controls",
            "_view_module_version": "1.5.0",
            "_view_name": "HTMLView",
            "description": "",
            "description_tooltip": null,
            "layout": "IPY_MODEL_ecc66f591da84852b7452e683e91a7e8",
            "placeholder": "​",
            "style": "IPY_MODEL_3577c13210994ae592f1d0a1e21df4a1",
            "value": "Map: 100%"
          }
        },
        "5975edae349847ab8cb4c95967804a77": {
          "model_module": "@jupyter-widgets/controls",
          "model_name": "FloatProgressModel",
          "model_module_version": "1.5.0",
          "state": {
            "_dom_classes": [],
            "_model_module": "@jupyter-widgets/controls",
            "_model_module_version": "1.5.0",
            "_model_name": "FloatProgressModel",
            "_view_count": null,
            "_view_module": "@jupyter-widgets/controls",
            "_view_module_version": "1.5.0",
            "_view_name": "ProgressView",
            "bar_style": "success",
            "description": "",
            "description_tooltip": null,
            "layout": "IPY_MODEL_4c4196d446da420fbefe9561d3ac989f",
            "max": 9,
            "min": 0,
            "orientation": "horizontal",
            "style": "IPY_MODEL_97e22c1cb17f49aa9670113f7cdc0d22",
            "value": 9
          }
        },
        "3d945797be6a40b6911a1c4cbdf99f7a": {
          "model_module": "@jupyter-widgets/controls",
          "model_name": "HTMLModel",
          "model_module_version": "1.5.0",
          "state": {
            "_dom_classes": [],
            "_model_module": "@jupyter-widgets/controls",
            "_model_module_version": "1.5.0",
            "_model_name": "HTMLModel",
            "_view_count": null,
            "_view_module": "@jupyter-widgets/controls",
            "_view_module_version": "1.5.0",
            "_view_name": "HTMLView",
            "description": "",
            "description_tooltip": null,
            "layout": "IPY_MODEL_aec19388c98f4c2fb52af62f61b33466",
            "placeholder": "​",
            "style": "IPY_MODEL_309c74df843849e59e270e9f54dca4db",
            "value": " 9/9 [00:00&lt;00:00, 130.52 examples/s]"
          }
        },
        "9af6493cbb7e43e8a707f1a26e7774be": {
          "model_module": "@jupyter-widgets/base",
          "model_name": "LayoutModel",
          "model_module_version": "1.2.0",
          "state": {
            "_model_module": "@jupyter-widgets/base",
            "_model_module_version": "1.2.0",
            "_model_name": "LayoutModel",
            "_view_count": null,
            "_view_module": "@jupyter-widgets/base",
            "_view_module_version": "1.2.0",
            "_view_name": "LayoutView",
            "align_content": null,
            "align_items": null,
            "align_self": null,
            "border": null,
            "bottom": null,
            "display": null,
            "flex": null,
            "flex_flow": null,
            "grid_area": null,
            "grid_auto_columns": null,
            "grid_auto_flow": null,
            "grid_auto_rows": null,
            "grid_column": null,
            "grid_gap": null,
            "grid_row": null,
            "grid_template_areas": null,
            "grid_template_columns": null,
            "grid_template_rows": null,
            "height": null,
            "justify_content": null,
            "justify_items": null,
            "left": null,
            "margin": null,
            "max_height": null,
            "max_width": null,
            "min_height": null,
            "min_width": null,
            "object_fit": null,
            "object_position": null,
            "order": null,
            "overflow": null,
            "overflow_x": null,
            "overflow_y": null,
            "padding": null,
            "right": null,
            "top": null,
            "visibility": null,
            "width": null
          }
        },
        "ecc66f591da84852b7452e683e91a7e8": {
          "model_module": "@jupyter-widgets/base",
          "model_name": "LayoutModel",
          "model_module_version": "1.2.0",
          "state": {
            "_model_module": "@jupyter-widgets/base",
            "_model_module_version": "1.2.0",
            "_model_name": "LayoutModel",
            "_view_count": null,
            "_view_module": "@jupyter-widgets/base",
            "_view_module_version": "1.2.0",
            "_view_name": "LayoutView",
            "align_content": null,
            "align_items": null,
            "align_self": null,
            "border": null,
            "bottom": null,
            "display": null,
            "flex": null,
            "flex_flow": null,
            "grid_area": null,
            "grid_auto_columns": null,
            "grid_auto_flow": null,
            "grid_auto_rows": null,
            "grid_column": null,
            "grid_gap": null,
            "grid_row": null,
            "grid_template_areas": null,
            "grid_template_columns": null,
            "grid_template_rows": null,
            "height": null,
            "justify_content": null,
            "justify_items": null,
            "left": null,
            "margin": null,
            "max_height": null,
            "max_width": null,
            "min_height": null,
            "min_width": null,
            "object_fit": null,
            "object_position": null,
            "order": null,
            "overflow": null,
            "overflow_x": null,
            "overflow_y": null,
            "padding": null,
            "right": null,
            "top": null,
            "visibility": null,
            "width": null
          }
        },
        "3577c13210994ae592f1d0a1e21df4a1": {
          "model_module": "@jupyter-widgets/controls",
          "model_name": "DescriptionStyleModel",
          "model_module_version": "1.5.0",
          "state": {
            "_model_module": "@jupyter-widgets/controls",
            "_model_module_version": "1.5.0",
            "_model_name": "DescriptionStyleModel",
            "_view_count": null,
            "_view_module": "@jupyter-widgets/base",
            "_view_module_version": "1.2.0",
            "_view_name": "StyleView",
            "description_width": ""
          }
        },
        "4c4196d446da420fbefe9561d3ac989f": {
          "model_module": "@jupyter-widgets/base",
          "model_name": "LayoutModel",
          "model_module_version": "1.2.0",
          "state": {
            "_model_module": "@jupyter-widgets/base",
            "_model_module_version": "1.2.0",
            "_model_name": "LayoutModel",
            "_view_count": null,
            "_view_module": "@jupyter-widgets/base",
            "_view_module_version": "1.2.0",
            "_view_name": "LayoutView",
            "align_content": null,
            "align_items": null,
            "align_self": null,
            "border": null,
            "bottom": null,
            "display": null,
            "flex": null,
            "flex_flow": null,
            "grid_area": null,
            "grid_auto_columns": null,
            "grid_auto_flow": null,
            "grid_auto_rows": null,
            "grid_column": null,
            "grid_gap": null,
            "grid_row": null,
            "grid_template_areas": null,
            "grid_template_columns": null,
            "grid_template_rows": null,
            "height": null,
            "justify_content": null,
            "justify_items": null,
            "left": null,
            "margin": null,
            "max_height": null,
            "max_width": null,
            "min_height": null,
            "min_width": null,
            "object_fit": null,
            "object_position": null,
            "order": null,
            "overflow": null,
            "overflow_x": null,
            "overflow_y": null,
            "padding": null,
            "right": null,
            "top": null,
            "visibility": null,
            "width": null
          }
        },
        "97e22c1cb17f49aa9670113f7cdc0d22": {
          "model_module": "@jupyter-widgets/controls",
          "model_name": "ProgressStyleModel",
          "model_module_version": "1.5.0",
          "state": {
            "_model_module": "@jupyter-widgets/controls",
            "_model_module_version": "1.5.0",
            "_model_name": "ProgressStyleModel",
            "_view_count": null,
            "_view_module": "@jupyter-widgets/base",
            "_view_module_version": "1.2.0",
            "_view_name": "StyleView",
            "bar_color": null,
            "description_width": ""
          }
        },
        "aec19388c98f4c2fb52af62f61b33466": {
          "model_module": "@jupyter-widgets/base",
          "model_name": "LayoutModel",
          "model_module_version": "1.2.0",
          "state": {
            "_model_module": "@jupyter-widgets/base",
            "_model_module_version": "1.2.0",
            "_model_name": "LayoutModel",
            "_view_count": null,
            "_view_module": "@jupyter-widgets/base",
            "_view_module_version": "1.2.0",
            "_view_name": "LayoutView",
            "align_content": null,
            "align_items": null,
            "align_self": null,
            "border": null,
            "bottom": null,
            "display": null,
            "flex": null,
            "flex_flow": null,
            "grid_area": null,
            "grid_auto_columns": null,
            "grid_auto_flow": null,
            "grid_auto_rows": null,
            "grid_column": null,
            "grid_gap": null,
            "grid_row": null,
            "grid_template_areas": null,
            "grid_template_columns": null,
            "grid_template_rows": null,
            "height": null,
            "justify_content": null,
            "justify_items": null,
            "left": null,
            "margin": null,
            "max_height": null,
            "max_width": null,
            "min_height": null,
            "min_width": null,
            "object_fit": null,
            "object_position": null,
            "order": null,
            "overflow": null,
            "overflow_x": null,
            "overflow_y": null,
            "padding": null,
            "right": null,
            "top": null,
            "visibility": null,
            "width": null
          }
        },
        "309c74df843849e59e270e9f54dca4db": {
          "model_module": "@jupyter-widgets/controls",
          "model_name": "DescriptionStyleModel",
          "model_module_version": "1.5.0",
          "state": {
            "_model_module": "@jupyter-widgets/controls",
            "_model_module_version": "1.5.0",
            "_model_name": "DescriptionStyleModel",
            "_view_count": null,
            "_view_module": "@jupyter-widgets/base",
            "_view_module_version": "1.2.0",
            "_view_name": "StyleView",
            "description_width": ""
          }
        }
      }
    }
  },
  "cells": [
    {
      "cell_type": "code",
      "source": [
        "!pip install transformers[sentencepiece] datasets sacrebleu rouge_score py7zr -q"
      ],
      "metadata": {
        "id": "Vt1KOXqmnzig"
      },
      "execution_count": null,
      "outputs": []
    },
    {
      "cell_type": "code",
      "source": [
        "import os\n",
        "from transformers import pipeline, set_seed\n",
        "\n",
        "import matplotlib.pyplot as plt\n",
        "import pandas as pd\n",
        "from datasets import load_dataset, load_metric\n",
        "\n",
        "from transformers import AutoModelForSeq2SeqLM, AutoTokenizer\n",
        "\n",
        "import nltk\n",
        "from nltk.tokenize import sent_tokenize\n",
        "\n",
        "from tqdm import tqdm\n",
        "import torch\n",
        "\n",
        "nltk.download(\"punkt\")"
      ],
      "metadata": {
        "colab": {
          "base_uri": "https://localhost:8080/"
        },
        "id": "Ld7q5Nr0oj9T",
        "outputId": "3201284c-631d-4b5a-983a-63f52dce6901"
      },
      "execution_count": null,
      "outputs": [
        {
          "output_type": "stream",
          "name": "stderr",
          "text": [
            "[nltk_data] Downloading package punkt to /root/nltk_data...\n",
            "[nltk_data]   Package punkt is already up-to-date!\n"
          ]
        },
        {
          "output_type": "execute_result",
          "data": {
            "text/plain": [
              "True"
            ]
          },
          "metadata": {},
          "execution_count": 2
        }
      ]
    },
    {
      "cell_type": "code",
      "execution_count": null,
      "metadata": {
        "id": "mpLkWYUMi9JQ"
      },
      "outputs": [],
      "source": [
        "file_names = [\n",
        "    'ES2002a.transcript.txt', 'ES2002b.transcript.txt', 'ES2002c.transcript.txt', 'ES2002d.transcript.txt',\n",
        "    'ES2003a.transcript.txt', 'ES2003b.transcript.txt', 'ES2003c.transcript.txt', 'ES2003d.transcript.txt',\n",
        "    'ES2004a.transcript.txt', 'ES2004b.transcript.txt', 'ES2004c.transcript.txt', 'ES2004d.transcript.txt',\n",
        "    'ES2005a.transcript.txt', 'ES2005b.transcript.txt', 'ES2005c.transcript.txt', 'ES2005d.transcript.txt',\n",
        "    'ES2006a.transcript.txt', 'ES2006b.transcript.txt', 'ES2006c.transcript.txt', 'ES2006d.transcript.txt',\n",
        "    'ES2007a.transcript.txt', 'ES2007b.transcript.txt', 'ES2007c.transcript.txt', 'ES2007d.transcript.txt',\n",
        "    'ES2008a.transcript.txt', 'ES2008b.transcript.txt', 'ES2008c.transcript.txt', 'ES2008d.transcript.txt',\n",
        "    'ES2009a.transcript.txt', 'ES2009b.transcript.txt', 'ES2009c.transcript.txt', 'ES2009d.transcript.txt',\n",
        "    'ES2010a.transcript.txt', 'ES2010b.transcript.txt', 'ES2010c.transcript.txt', 'ES2010d.transcript.txt',\n",
        "    'ES2011a.transcript.txt', 'ES2011b.transcript.txt', 'ES2011c.transcript.txt', 'ES2011d.transcript.txt',\n",
        "    'ES2012a.transcript.txt', 'ES2012b.transcript.txt', 'ES2012c.transcript.txt', 'ES2012d.transcript.txt',\n",
        "    'ES2013a.transcript.txt', 'ES2013b.transcript.txt', 'ES2013c.transcript.txt', 'ES2013d.transcript.txt',\n",
        "    'ES2014a.transcript.txt', 'ES2014b.transcript.txt', 'ES2014c.transcript.txt', 'ES2014d.transcript.txt',\n",
        "    'ES2015a.transcript.txt', 'ES2015b.transcript.txt', 'ES2015c.transcript.txt', 'ES2015d.transcript.txt',\n",
        "    'ES2016a.transcript.txt', 'ES2016b.transcript.txt', 'ES2016c.transcript.txt', 'ES2016d.transcript.txt',\n",
        "    'IS1000a.transcript.txt', 'IS1000b.transcript.txt', 'IS1000c.transcript.txt', 'IS1000d.transcript.txt',\n",
        "    'IS1001a.transcript.txt', 'IS1001b.transcript.txt', 'IS1001c.transcript.txt', 'IS1001d.transcript.txt',\n",
        "    'IS1002b.transcript.txt', 'IS1002c.transcript.txt', 'IS1002d.transcript.txt',\n",
        "    'IS1003a.transcript.txt', 'IS1003b.transcript.txt', 'IS1003c.transcript.txt', 'IS1003d.transcript.txt',\n",
        "    'IS1004a.transcript.txt', 'IS1004b.transcript.txt', 'IS1004c.transcript.txt', 'IS1004d.transcript.txt',\n",
        "    'IS1005a.transcript.txt', 'IS1005b.transcript.txt', 'IS1005c.transcript.txt',\n",
        "    'IS1006a.transcript.txt', 'IS1006b.transcript.txt', 'IS1006c.transcript.txt', 'IS1006d.transcript.txt',\n",
        "    'IS1007a.transcript.txt', 'IS1007b.transcript.txt', 'IS1007c.transcript.txt', 'IS1007d.transcript.txt',\n",
        "    'IS1008a.transcript.txt', 'IS1008b.transcript.txt', 'IS1008c.transcript.txt', 'IS1008d.transcript.txt',\n",
        "    # Continuing the pattern for the rest of the file names...\n",
        "]\n",
        "\n",
        "# Modify the path for each file name\n",
        "transcript_files= ['/content/drive/MyDrive/transcript/' + file_name for file_name in file_names]"
      ]
    },
    {
      "cell_type": "code",
      "source": [
        "# Given the challenge with directly inputting the lengthy list, let's simplify the process by manually constructing the new paths based on the given pattern.\n",
        "\n",
        "# Manually constructing the new paths array based on the given filenames pattern\n",
        "base_path = '/content/drive/MyDrive/ami/'\n",
        "suffix = '.ducref.abstract'\n",
        "meeting_ids = [\n",
        "    'ES2002a', 'ES2002b', 'ES2002c', 'ES2002d',\n",
        "    'ES2003a', 'ES2003b', 'ES2003c', 'ES2003d',\n",
        "    'ES2004a', 'ES2004b', 'ES2004c', 'ES2004d',\n",
        "    'ES2005a', 'ES2005b', 'ES2005c', 'ES2005d',\n",
        "    'ES2006a', 'ES2006b', 'ES2006c', 'ES2006d',\n",
        "    'ES2007a', 'ES2007b', 'ES2007c', 'ES2007d',\n",
        "    'ES2008a', 'ES2008b', 'ES2008c', 'ES2008d',\n",
        "    'ES2009a', 'ES2009b', 'ES2009c', 'ES2009d',\n",
        "    'ES2010a', 'ES2010b', 'ES2010c', 'ES2010d',\n",
        "    'ES2011a', 'ES2011b', 'ES2011c', 'ES2011d',\n",
        "    'ES2012a', 'ES2012b', 'ES2012c', 'ES2012d',\n",
        "    'ES2013a', 'ES2013b', 'ES2013c', 'ES2013d',\n",
        "    'ES2014a', 'ES2014b', 'ES2014c', 'ES2014d',\n",
        "    'ES2015a', 'ES2015b', 'ES2015c', 'ES2015d',\n",
        "    'ES2016a', 'ES2016b', 'ES2016c', 'ES2016d',\n",
        "    'IS1000a', 'IS1000b', 'IS1000c', 'IS1000d',\n",
        "    'IS1001a', 'IS1001b', 'IS1001c', 'IS1001d',\n",
        "    'IS1002b', 'IS1002c', 'IS1002d',\n",
        "    'IS1003a', 'IS1003b', 'IS1003c', 'IS1003d',\n",
        "    'IS1004a', 'IS1004b', 'IS1004c', 'IS1004d',\n",
        "    'IS1005a', 'IS1005b', 'IS1005c',\n",
        "    'IS1006a', 'IS1006b', 'IS1006c', 'IS1006d',\n",
        "    'IS1007a', 'IS1007b', 'IS1007c', 'IS1007d',\n",
        "    'IS1008a', 'IS1008b', 'IS1008c', 'IS1008d',\n",
        "    'IS1009a', 'IS1009b', 'IS1009c', 'IS1009d',\n",
        "    'TS3003a', 'TS3003b', 'TS3003c', 'TS3003d',\n",
        "    'TS3004a', 'TS3004b', 'TS3004c', 'TS3004d',\n",
        "    'TS3005a', 'TS3005b', 'TS3005c', 'TS3005d',\n",
        "    'TS3006a', 'TS3006b', 'TS3006c', 'TS3006d',\n",
        "    'TS3007a', 'TS3007b', 'TS3007c', 'TS3007d',\n",
        "    'TS3008a', 'TS3008b', 'TS3008c', 'TS3008d',\n",
        "    'TS3009a', 'TS3009b', 'TS3009c', 'TS3009d',\n",
        "    'TS3010a', 'TS3010b', 'TS3010c', 'TS3010d',\n",
        "    'TS3011a', 'TS3011b', 'TS3011c', 'TS3011d',\n",
        "    'TS3012a', 'TS3012b', 'TS3012d'\n",
        "]\n",
        "\n",
        "abstract_files = [base_path + meeting_id + suffix for meeting_id in meeting_ids]\n",
        "\n",
        "abstract_files[:5]  # Displaying the first 5 entries as a sample\n"
      ],
      "metadata": {
        "colab": {
          "base_uri": "https://localhost:8080/"
        },
        "id": "ksPhwDzVpUL5",
        "outputId": "24bf57cf-2fd2-4541-d1c4-d89ce0384137"
      },
      "execution_count": null,
      "outputs": [
        {
          "output_type": "execute_result",
          "data": {
            "text/plain": [
              "['/content/drive/MyDrive/ami/ES2002a.ducref.abstract',\n",
              " '/content/drive/MyDrive/ami/ES2002b.ducref.abstract',\n",
              " '/content/drive/MyDrive/ami/ES2002c.ducref.abstract',\n",
              " '/content/drive/MyDrive/ami/ES2002d.ducref.abstract',\n",
              " '/content/drive/MyDrive/ami/ES2003a.ducref.abstract']"
            ]
          },
          "metadata": {},
          "execution_count": 4
        }
      ]
    },
    {
      "cell_type": "code",
      "source": [
        "# Function to read a file\n",
        "def read_file(file_path):\n",
        "    with open(file_path, 'r', encoding='utf-8') as file:\n",
        "        return file.read()\n",
        "\n",
        "# Creating lists to store the data\n",
        "file_names = []\n",
        "transcripts = []\n",
        "abstracts = []\n",
        "\n",
        "# Assuming each transcript file has a corresponding abstract file\n",
        "for transcript_file, abstract_file in zip(transcript_files, abstract_files):\n",
        "    file_names.append(os.path.basename(transcript_file).split('.')[0])  # Assuming file name format is consistent\n",
        "    transcripts.append(read_file(transcript_file))\n",
        "    abstracts.append(read_file(abstract_file))\n",
        "\n",
        "# Creating the DataFrame\n",
        "dataset = pd.DataFrame({\n",
        "    'File Name': file_names,\n",
        "    'Transcript': transcripts,\n",
        "    'Abstract': abstracts\n",
        "})\n",
        "\n",
        "dataset.head()  # Display the first few rows of the DataFrame\n"
      ],
      "metadata": {
        "colab": {
          "base_uri": "https://localhost:8080/",
          "height": 206
        },
        "id": "WiNKPN4apUI-",
        "outputId": "279909c3-38c1-44ea-d072-43f2ae942786"
      },
      "execution_count": null,
      "outputs": [
        {
          "output_type": "execute_result",
          "data": {
            "text/plain": [
              "  File Name                                         Transcript  \\\n",
              "0   ES2002a  hi, i'm david and i'm supposed to be an indust...   \n",
              "1   ES2002b  mm yeah. nope, we're all set. which which is t...   \n",
              "2   ES2002c  's to do now is to decide how to fulfil what y...   \n",
              "3   ES2002d  no. ninja homer, made in japan. and there isn'...   \n",
              "4   ES2003a  uh, dave cochrane. user interface defin design...   \n",
              "\n",
              "                                            Abstract  \n",
              "0  The project manager introduced the upcoming pr...  \n",
              "1  The project manager briefed the team on some n...  \n",
              "2  The project manager recapped the decisions mad...  \n",
              "3  The project manager recapped the decisions mad...  \n",
              "4  The team members introduced themselves to each...  "
            ],
            "text/html": [
              "\n",
              "  <div id=\"df-b403f7f8-d53c-49c6-8357-025130f305f3\" class=\"colab-df-container\">\n",
              "    <div>\n",
              "<style scoped>\n",
              "    .dataframe tbody tr th:only-of-type {\n",
              "        vertical-align: middle;\n",
              "    }\n",
              "\n",
              "    .dataframe tbody tr th {\n",
              "        vertical-align: top;\n",
              "    }\n",
              "\n",
              "    .dataframe thead th {\n",
              "        text-align: right;\n",
              "    }\n",
              "</style>\n",
              "<table border=\"1\" class=\"dataframe\">\n",
              "  <thead>\n",
              "    <tr style=\"text-align: right;\">\n",
              "      <th></th>\n",
              "      <th>File Name</th>\n",
              "      <th>Transcript</th>\n",
              "      <th>Abstract</th>\n",
              "    </tr>\n",
              "  </thead>\n",
              "  <tbody>\n",
              "    <tr>\n",
              "      <th>0</th>\n",
              "      <td>ES2002a</td>\n",
              "      <td>hi, i'm david and i'm supposed to be an indust...</td>\n",
              "      <td>The project manager introduced the upcoming pr...</td>\n",
              "    </tr>\n",
              "    <tr>\n",
              "      <th>1</th>\n",
              "      <td>ES2002b</td>\n",
              "      <td>mm yeah. nope, we're all set. which which is t...</td>\n",
              "      <td>The project manager briefed the team on some n...</td>\n",
              "    </tr>\n",
              "    <tr>\n",
              "      <th>2</th>\n",
              "      <td>ES2002c</td>\n",
              "      <td>'s to do now is to decide how to fulfil what y...</td>\n",
              "      <td>The project manager recapped the decisions mad...</td>\n",
              "    </tr>\n",
              "    <tr>\n",
              "      <th>3</th>\n",
              "      <td>ES2002d</td>\n",
              "      <td>no. ninja homer, made in japan. and there isn'...</td>\n",
              "      <td>The project manager recapped the decisions mad...</td>\n",
              "    </tr>\n",
              "    <tr>\n",
              "      <th>4</th>\n",
              "      <td>ES2003a</td>\n",
              "      <td>uh, dave cochrane. user interface defin design...</td>\n",
              "      <td>The team members introduced themselves to each...</td>\n",
              "    </tr>\n",
              "  </tbody>\n",
              "</table>\n",
              "</div>\n",
              "    <div class=\"colab-df-buttons\">\n",
              "\n",
              "  <div class=\"colab-df-container\">\n",
              "    <button class=\"colab-df-convert\" onclick=\"convertToInteractive('df-b403f7f8-d53c-49c6-8357-025130f305f3')\"\n",
              "            title=\"Convert this dataframe to an interactive table.\"\n",
              "            style=\"display:none;\">\n",
              "\n",
              "  <svg xmlns=\"http://www.w3.org/2000/svg\" height=\"24px\" viewBox=\"0 -960 960 960\">\n",
              "    <path d=\"M120-120v-720h720v720H120Zm60-500h600v-160H180v160Zm220 220h160v-160H400v160Zm0 220h160v-160H400v160ZM180-400h160v-160H180v160Zm440 0h160v-160H620v160ZM180-180h160v-160H180v160Zm440 0h160v-160H620v160Z\"/>\n",
              "  </svg>\n",
              "    </button>\n",
              "\n",
              "  <style>\n",
              "    .colab-df-container {\n",
              "      display:flex;\n",
              "      gap: 12px;\n",
              "    }\n",
              "\n",
              "    .colab-df-convert {\n",
              "      background-color: #E8F0FE;\n",
              "      border: none;\n",
              "      border-radius: 50%;\n",
              "      cursor: pointer;\n",
              "      display: none;\n",
              "      fill: #1967D2;\n",
              "      height: 32px;\n",
              "      padding: 0 0 0 0;\n",
              "      width: 32px;\n",
              "    }\n",
              "\n",
              "    .colab-df-convert:hover {\n",
              "      background-color: #E2EBFA;\n",
              "      box-shadow: 0px 1px 2px rgba(60, 64, 67, 0.3), 0px 1px 3px 1px rgba(60, 64, 67, 0.15);\n",
              "      fill: #174EA6;\n",
              "    }\n",
              "\n",
              "    .colab-df-buttons div {\n",
              "      margin-bottom: 4px;\n",
              "    }\n",
              "\n",
              "    [theme=dark] .colab-df-convert {\n",
              "      background-color: #3B4455;\n",
              "      fill: #D2E3FC;\n",
              "    }\n",
              "\n",
              "    [theme=dark] .colab-df-convert:hover {\n",
              "      background-color: #434B5C;\n",
              "      box-shadow: 0px 1px 3px 1px rgba(0, 0, 0, 0.15);\n",
              "      filter: drop-shadow(0px 1px 2px rgba(0, 0, 0, 0.3));\n",
              "      fill: #FFFFFF;\n",
              "    }\n",
              "  </style>\n",
              "\n",
              "    <script>\n",
              "      const buttonEl =\n",
              "        document.querySelector('#df-b403f7f8-d53c-49c6-8357-025130f305f3 button.colab-df-convert');\n",
              "      buttonEl.style.display =\n",
              "        google.colab.kernel.accessAllowed ? 'block' : 'none';\n",
              "\n",
              "      async function convertToInteractive(key) {\n",
              "        const element = document.querySelector('#df-b403f7f8-d53c-49c6-8357-025130f305f3');\n",
              "        const dataTable =\n",
              "          await google.colab.kernel.invokeFunction('convertToInteractive',\n",
              "                                                    [key], {});\n",
              "        if (!dataTable) return;\n",
              "\n",
              "        const docLinkHtml = 'Like what you see? Visit the ' +\n",
              "          '<a target=\"_blank\" href=https://colab.research.google.com/notebooks/data_table.ipynb>data table notebook</a>'\n",
              "          + ' to learn more about interactive tables.';\n",
              "        element.innerHTML = '';\n",
              "        dataTable['output_type'] = 'display_data';\n",
              "        await google.colab.output.renderOutput(dataTable, element);\n",
              "        const docLink = document.createElement('div');\n",
              "        docLink.innerHTML = docLinkHtml;\n",
              "        element.appendChild(docLink);\n",
              "      }\n",
              "    </script>\n",
              "  </div>\n",
              "\n",
              "\n",
              "<div id=\"df-3cb369dc-9514-4673-b3f3-95e79da2b70c\">\n",
              "  <button class=\"colab-df-quickchart\" onclick=\"quickchart('df-3cb369dc-9514-4673-b3f3-95e79da2b70c')\"\n",
              "            title=\"Suggest charts\"\n",
              "            style=\"display:none;\">\n",
              "\n",
              "<svg xmlns=\"http://www.w3.org/2000/svg\" height=\"24px\"viewBox=\"0 0 24 24\"\n",
              "     width=\"24px\">\n",
              "    <g>\n",
              "        <path d=\"M19 3H5c-1.1 0-2 .9-2 2v14c0 1.1.9 2 2 2h14c1.1 0 2-.9 2-2V5c0-1.1-.9-2-2-2zM9 17H7v-7h2v7zm4 0h-2V7h2v10zm4 0h-2v-4h2v4z\"/>\n",
              "    </g>\n",
              "</svg>\n",
              "  </button>\n",
              "\n",
              "<style>\n",
              "  .colab-df-quickchart {\n",
              "      --bg-color: #E8F0FE;\n",
              "      --fill-color: #1967D2;\n",
              "      --hover-bg-color: #E2EBFA;\n",
              "      --hover-fill-color: #174EA6;\n",
              "      --disabled-fill-color: #AAA;\n",
              "      --disabled-bg-color: #DDD;\n",
              "  }\n",
              "\n",
              "  [theme=dark] .colab-df-quickchart {\n",
              "      --bg-color: #3B4455;\n",
              "      --fill-color: #D2E3FC;\n",
              "      --hover-bg-color: #434B5C;\n",
              "      --hover-fill-color: #FFFFFF;\n",
              "      --disabled-bg-color: #3B4455;\n",
              "      --disabled-fill-color: #666;\n",
              "  }\n",
              "\n",
              "  .colab-df-quickchart {\n",
              "    background-color: var(--bg-color);\n",
              "    border: none;\n",
              "    border-radius: 50%;\n",
              "    cursor: pointer;\n",
              "    display: none;\n",
              "    fill: var(--fill-color);\n",
              "    height: 32px;\n",
              "    padding: 0;\n",
              "    width: 32px;\n",
              "  }\n",
              "\n",
              "  .colab-df-quickchart:hover {\n",
              "    background-color: var(--hover-bg-color);\n",
              "    box-shadow: 0 1px 2px rgba(60, 64, 67, 0.3), 0 1px 3px 1px rgba(60, 64, 67, 0.15);\n",
              "    fill: var(--button-hover-fill-color);\n",
              "  }\n",
              "\n",
              "  .colab-df-quickchart-complete:disabled,\n",
              "  .colab-df-quickchart-complete:disabled:hover {\n",
              "    background-color: var(--disabled-bg-color);\n",
              "    fill: var(--disabled-fill-color);\n",
              "    box-shadow: none;\n",
              "  }\n",
              "\n",
              "  .colab-df-spinner {\n",
              "    border: 2px solid var(--fill-color);\n",
              "    border-color: transparent;\n",
              "    border-bottom-color: var(--fill-color);\n",
              "    animation:\n",
              "      spin 1s steps(1) infinite;\n",
              "  }\n",
              "\n",
              "  @keyframes spin {\n",
              "    0% {\n",
              "      border-color: transparent;\n",
              "      border-bottom-color: var(--fill-color);\n",
              "      border-left-color: var(--fill-color);\n",
              "    }\n",
              "    20% {\n",
              "      border-color: transparent;\n",
              "      border-left-color: var(--fill-color);\n",
              "      border-top-color: var(--fill-color);\n",
              "    }\n",
              "    30% {\n",
              "      border-color: transparent;\n",
              "      border-left-color: var(--fill-color);\n",
              "      border-top-color: var(--fill-color);\n",
              "      border-right-color: var(--fill-color);\n",
              "    }\n",
              "    40% {\n",
              "      border-color: transparent;\n",
              "      border-right-color: var(--fill-color);\n",
              "      border-top-color: var(--fill-color);\n",
              "    }\n",
              "    60% {\n",
              "      border-color: transparent;\n",
              "      border-right-color: var(--fill-color);\n",
              "    }\n",
              "    80% {\n",
              "      border-color: transparent;\n",
              "      border-right-color: var(--fill-color);\n",
              "      border-bottom-color: var(--fill-color);\n",
              "    }\n",
              "    90% {\n",
              "      border-color: transparent;\n",
              "      border-bottom-color: var(--fill-color);\n",
              "    }\n",
              "  }\n",
              "</style>\n",
              "\n",
              "  <script>\n",
              "    async function quickchart(key) {\n",
              "      const quickchartButtonEl =\n",
              "        document.querySelector('#' + key + ' button');\n",
              "      quickchartButtonEl.disabled = true;  // To prevent multiple clicks.\n",
              "      quickchartButtonEl.classList.add('colab-df-spinner');\n",
              "      try {\n",
              "        const charts = await google.colab.kernel.invokeFunction(\n",
              "            'suggestCharts', [key], {});\n",
              "      } catch (error) {\n",
              "        console.error('Error during call to suggestCharts:', error);\n",
              "      }\n",
              "      quickchartButtonEl.classList.remove('colab-df-spinner');\n",
              "      quickchartButtonEl.classList.add('colab-df-quickchart-complete');\n",
              "    }\n",
              "    (() => {\n",
              "      let quickchartButtonEl =\n",
              "        document.querySelector('#df-3cb369dc-9514-4673-b3f3-95e79da2b70c button');\n",
              "      quickchartButtonEl.style.display =\n",
              "        google.colab.kernel.accessAllowed ? 'block' : 'none';\n",
              "    })();\n",
              "  </script>\n",
              "</div>\n",
              "\n",
              "    </div>\n",
              "  </div>\n"
            ],
            "application/vnd.google.colaboratory.intrinsic+json": {
              "type": "dataframe",
              "variable_name": "dataset",
              "summary": "{\n  \"name\": \"dataset\",\n  \"rows\": 94,\n  \"fields\": [\n    {\n      \"column\": \"File Name\",\n      \"properties\": {\n        \"dtype\": \"string\",\n        \"num_unique_values\": 94,\n        \"samples\": [\n          \"ES2012a\",\n          \"ES2007c\",\n          \"ES2015d\"\n        ],\n        \"semantic_type\": \"\",\n        \"description\": \"\"\n      }\n    },\n    {\n      \"column\": \"Transcript\",\n      \"properties\": {\n        \"dtype\": \"string\",\n        \"num_unique_values\": 94,\n        \"samples\": [\n          \"right w welcome to the the first meeting of uh real reaction's uh um development meetings for our our new television remote control. uh this follows our very successful entry into the the consumer market over the last year or so um which we want to to build on, taking advantage of the uh the the latest developments in in technology and the uh the latest uh uh feelings in in consumer design and and demand and uh we want to make this the the very best product th that's possible for everybody, uh one that everybody wants, uh at a good price for the consumer and at a good price for the company. uh and to that end we need all to work together uh to do that. um and uh b in no particular order because ev everybody is uh just as vital to this project um i'll just go round th the table, andrew, marketing, um m kendra with the uh um designing the the the user interface uh uh and kate with the the industrial design. um. what's uh the the th th project is is here to do, is is to to get this this project up and moving, ev everybody is is free to uh say wh whatever they want, uh everybody has a contribution to make and uh everybody feel free to interrupt me at any time to to say what you want to say. um in in terms of the immediate meeting the uh um everybody knows everybody else, everybody's worked for the the company for a while, if if an anybody feels that they need to say more about themselves please do, if if if anybody wants to b briefly give their their background so that everybody's quite clear what everybody uh uh everybody's experience is please do so. uh in fact i'd i'd i'd welcome anybody to uh say something briefly about themselves, in fact we will do that by by going round the table quickly and and saying what what contribution you you're looking to make. so we'll start with andrew. right kendra. right at least means you haven't got any preconceived ideas so. yep, good. okay, very very quickly, um this i don't want to make this meeting too structured because the the whole idea is that it's a um you know a think tank. everybody says what they what they want to say, uh and we don't want to be constrained by uh kind of convention or uh uh slides on screens or or anything else um but um briefly um th th this is what we want to do. the the remote control needs to be original, there has to be something about it that uh other remote controls don't have so that as soon as people see it they think um yes that's different, uh i want one, um and that goes along with being trendy, uh uh you know the i want it uh scenario. user-friendly as as we all know, remote controls can be uh uh very user-unfriendly so we want to make ours one that people can pick up and think oh yes that's it's obvious how that works, uh and they also want to look at the price and think oh yeah that's something that i may not need another remote control but uh it's such a nice one i'm gonna have one. and last but not least, or indeed first of all, it it must make the company money, and we make the company money by producing what the consumer wants. the uh the further work to be done is i the um the functional design, uh what it uh what it must actually do, the uh conceptual design, uh how we actually present that to the consumer and th the the detailed design i is uh how we get that into production. uh now th the main design tool that we have available to us at the moment is is the white board and uh uh let us very quickly do what i what it says in the in the in the prompt slide here, um in fact i suggest to avoid everybody untangling themselves from the uh the the wires, that we don't do that, um so i i everybody knows what whiteboard is so we'll um uh we'll do a virtual drawing on the on on the whiteboard of of your your own uh uh favourite animal, but le let's go round the table, your favourite animal. mm and why? uh-huh. oh right uh my my wife says my beard looks like a badger's arse 'cause of the the white streaks in it. kendra. uh-huh. right, okay. uh-huh, fair enough yeah. i'm not sure that i've got any favourite animal to be quite honest, i think homo sapien because of their their uh overall ability to uh uh sorry? indeed absolutely yes, tha that's um okay and uh w we need to keep in mind here that the uh we want to sell this for for twenty five euro um, we want to m make an overall profit for the the company of fifty million euros so we're we're looking at selling a lot of these um ag across the the entire planet and and we're looking at a gross profit of fifty percent. it needs to cost twelve euros fifty to make. um so we're not only looking at a a very trendy original product, we're looking at making it at a very good price. um, okay, um would anybody like t like to to start by giving their o um sort of quick views of of current remote controls. no. any any thoughts about buttons or any oth other way of approaching the p the uh the problem? or anybody else, strong feelings about remote controls? are there you know, bad ones they've used or good ones they've used or ones that they've lost and never found again? um what so wh what's in in what particular style features are you thinking about? uh-huh.. yeah d no i mean do you think there's a risk if it doesn't look like remote control, people won't see it as a remote control um and uh uh-huh. any other thoughts about um th the physical appearance of a of remote controls? i mean th the thing that i immediately comes to mind is computer mouses which um i mean y you get all sorts of shapes in the shops and s you know some quite fancy ones um than the some from personal experience which look nice but aren't particularly comfortable. um any thoughts about buttons or flat screens or uh uh yes, i mean the only thing is if if you're watching television in a in a a darkened room um you need to be able to uh fi find the button buttons easily. yeah, that's uh must admit i don't think i've ever seen one with concave buttons, that's uh certainly be different. um do we need it to uh i can't think of any re remote controls that i know of that actually light up at all. do we do we want uh yeah. okay. so, andrew have you had any thoughts yet about how we might market something which there are already millions out there and that we want to uh uh uh t take over the entire um the planet with? mm-hmm. mm-hmm. mm-hmm. okay, yeah, yeah, well i d i think an any uh any facets that we identify w we aim need to aim for for all of. um okay well first thoughts on um the the industrial design side. indeed. yeah. okay, and um colours, materials? kendra, anyone?. yeah. uh-huh. right. yeah. okay that's uh again i don't think that's ever been done before, it's uh the sort of the sort of thing that would get people uh thinking yes that's something that i haven't got and uh might need so. uh andrew, any thoughts about uh how we might market interchangeable fronts on on the remote control? yeah. yeah. i think mm-mm. right, okay i think we've got um a good idea now. we uh meeting is uh needs to be k uh wrapped up fairly quickly. so uh um we've got thirty minutes to start looking at the um at the design in more detail. um then we'll we will reconvene in in thirty minutes and try to get some of these ideas uh uh more formalised. uh thank you very much indeed.\\nuh i'm katie, i'm the industrial designer and i'll just be i guess presenting about the the inter workings of our little remote control and uh yeah. uh 's horses, no particular reason why. um i think it's important that you should be able to when you when you press the buttons it'll actually pick up the signals from kind of anywhere and you shouldn't have to like contort yourself and twist your remote control to get it the t_v_ to actually pick up the signal. mm. mm. mm. mm. mm. mm. mm. mm that would be good. mm. mm. mm. oh i think it's it's remote controls are kind of a unique object 'cause it's you depend on them so much, but you don't i i it's you sort of just assume they're always gonna work, you don't think of them as a comp like a computer can break down and you're kinda like oh well fair enough there's all these complex things going on, it's gonna something's gonna get messed up eventually. they they just need to be very very dependable because people sort of take them for granted and then if your remote control breaks it's god forbid you actually get up and manually change the channel it just it needs to be very effective, very always dependable. uh i don't think we should make it too small i 'cause i think it needs to it can't be too big like you were saying big an and huge and um awkward, but also if you make it too small kinda like you know how mobile phones are getting smaller and smaller um, it's just gonna end up under a couch cushion somewhere and um yeah. but so yes dependable, and have a good medium range size. mm, mm-hmm. mm-hmm. mm. well you could come up with like novelty ones, like they've done with the the mobile phones, you can get like different you know scenes from different movies and stuff on the remote control and sorta stagger the release of them and get people like oh i want that cover on it now and that'll keep them spending money. thank you.\\ni'm kendra and i'm the us user interface designer and um i haven't had a whole lot of experience in this kind of thing before but i'm m so i'll be working on the design. right. yep, i'm just open to being creative. um probably a duck i just i li i like the way they look and they're just nice animals and i like how they can fly or swim or walk around or whatever. well i think i find a lot of them really complicated to use with all the different buttons and uh it's handiest when you have one that works both the d_v_d_ player or whatever and the t_v_ as well. um, but that it's easy to if you can switch back and forth instead of having to press a bunch of different buttons and so i think it's is best when they're clearly labelled and you can see which buttons you're supposed to use, you know. yeah. i think something that's comfortable to hold because sometimes you get the remote controls that are just those big, rectangular things and uh they're kind of awkward to hold onto, so something that's more comfortable that fits in a person's hand better. yeah. yeah. yeah. but maybe they could be concave instead of sticking up to have them be kind of down so you could feel them better. oh yeah. like a like a mobile phone? yeah. well, most i think most of the remote controls now are either just black or grey, so maybe we should go with something different or be able to i was just thinking of um what they're doing with mobile phones now how you can get the different um what are they called? like the face-plates that you change so we could have maybe i don't know if it would be feasible to do something with that, where you can change the face-plates or have kind of a variety so people can get different different things. have it kind of look how they want to, different colours, things like that, probably just plastic because that's always the lightest. yeah. yeah. okay.\\nmm. oh my name's andrew i'm a i'm the market research person for this uh for this meeting and this uh project for creating this new remote control and uh yeah i'll be uh presenting information statistics on what people want to want to uh get from this new design, what people want to like and from a fashion point of view and the practicality point of view. um, badger. uh it's it's got nice contrast with black and white and uh i feel they're underdog kind of status and they're, the make mobile phones and t_v_ remotes to make t_v_ remotes. yeah. think a lot of the time, remotes that come with t_v_ players and t_v_s and d_v_ players, like they aren't like an area that's put a lot of effort into, they're very boring, very plain. like it's very a very like um making a a stylish remote control would be a very like easily put us one step ahead of the current competition. um. something that looks looks doesn't look like remote control. so if you want, something that looks like uh something that makes you think oh what's this? like this pen doesn't really look like a pen, but it makes you think oh. so, sorry that's a bit vague. uh i suppose suppose that's up to the marketing to to make make people aware of the product. mm. yeah. well from the mouse idea you could, remote is a piece of plastic with the big rubber buttons sticking out of it which you press, whereas if you want could all be flat and the buttons are very kind of almost subtle that instead of being raised out of the device uh you push into device you see, like a mouse button. i suppose. easily, yeah yeah. mm. mm, yeah that would be good. mm-hmm, um especially if we try to sell, what two million of them. oh sorry, four million of 'em, but uh i think if w if we market it as as not as not well this you c you could either market it as the point of view we could have the two we could have parallel marketing s schemes where you've got one where it appeals to people that want to have the new device that looks cool, is fashionable and like you just it's it's like uh it's one that rather than ra i wan i want rather than a kind of a need relationship with the device, but that might considering the act what the device is for and the nature of some people might not like respond to having a device that they just looks nice, therefore they want it so make it practical at the same time. i think it's this is gonna have to appeal to people that want device that can enhance their living room uh but also a device that uh is practically sound. so um, i dunno we'll have to decide which which angle we're gonna go to or both. if you. mm. um, well we could either market it together by getting control in a set colour or with like you buy it with several uh like you ge you get the f uh the face-plates with it when you buy or as a separate thing, but uh maybe thinking of that, it's considering the nature of the device, maybe a second thing like a second campaign to market new facials for your to your might go a bit astray since it is the kind of thing where y you generally get one and then forget about it. unless you were trying to mm. oh it's that's a that's a good idea. mm. yeah true..\\n\",\n          \"i feel like madonna with one of these on. i said i feel like madonna with one of these on. right. hello everybody. back again for another wonderful meeting. is uh everyone ready? okay, we c we can hold on for a minute. i figured with the spam thing, if you can't beat it, join in. are you ready? okay, right, well, i take it that you are all ready now. um alright first off we'll just uh recap from our last meeting. um which was we got together just to basically decide on well to talk about what it is that we were actually uh supposed to be doing, and who we all are and stuff like that, mm get bit more of an idea together of what's going on. um what we are gonna talk about in this meeting is um now that we know what it is that we are doing, now we know that it's a t_v_ remote and stuff and you guys have just been off doing some some uh r_ and d_ for that, that's research and development for those that haven't heard that before, see i'm learning all sorts of new technologi terms in technology today. um yeah, we're gonna hear your uh th three little presentations, whether they be on computer or on the whiteboard or whatever you want. um i'd like to um hear o i'd like to hear who's g who's on the um from from uh catherine actually first. i want what i'd like to hear about is uh if we've finally decided on um what sort of energy we're gonna be using and it's just that yeah, let's let's hear from you first. get yourself in position. i don't think any of us remember the fifties. do sol solar panel things, do they have to work from the sun or can they work from a light bulb? does anybody know? okay. mm. okay, jolly good. what's a double curved one? okay. so that might be an idea of using the rubber, but then it should, you know yeah. when a t_v_ programme's got one watching the match and your team's just lost, you can fuzz it across the room and it'll bounce off the wall back at you. yeah, i like that idea. rubber, we're all we're all going we're all liking that idea? you think you can market that? ooh, we like rubber, ooh. uh-huh. well, we're gonna go with i think we've decided that it's gonna be a rubber case so push buttons instead of the wheel? rubble double double. i'll have a big mac, please. let's have rubber push buttons, hey. yeah. simple, yeah. chip on print. it's a bit. okay, uh what i'm not understanding here is uh, okay, advanced chip on print, which i presume is like one p_c_b_ and that's got all the electronics on one board including the um infra-red sender? right. um what a what alternatives do we have to that? y um what alternatives do we have to the chip on print? so it sounds so, why would we not go for that? if it's something that's inside the the unit. i it doesn't affects whether the customer's gonna buy it or not. um we wanna go for an i i all so long as it works, you know. so let's not let's uh not bother with the chip on print. yeah. s yeah, push buttons. what about what? well, what do we need a speaker for in a remote control unit? s yeah. it's not something that we wanna t go into with this product. yeah. yeah. yeah. yeah. yeah. yeah. yeah. basic battery. it's cheap, it's cheerful, it's worked, does work. we were go we were going with the late with the the r_s_i_ rubber, weren't we? the the the double whopper, please. yep, but we're going for the simple buttons. yeah. and it's cheapest all round, it sounds kinda funky, and we can also market it as i 'cause we were s saying earl you were saying earlier in your research that um the the people have the r_ people were getting the complaining about r_s_i_, and this is anti-r_s_i_. so that's another marketing point that we can use. but anything is gonna have buttons. even if it's a jog wheel, it's still repetitive. you you see, you can still get it does you still get repetitive strain injury, whether you are pressing a button or pressing a flat bit of screen. it's the v it's the fact that you are pressing the same doing the same movement. it's not actually what you are doing. but the fact that this this rubber i is actually used in these anti-r_s_i_ ps specific yeah. and you know, yeah, you can fuzz it across the room and throw it at throw it at your children yeah. okay, gabriel. let's um let's let's hear from you about the um it's the interface. great. mm. mm. mm. yeah. mm-hmm. yeah. yeah. yeah. do we have an uh example of a good one? brilliant. yeah. mm-hmm. okay. well let's um so w what are our definite decisions on this then as a team? the um the the um the interface type we're going for just the simple s simple straight set of buttons. yeah. yeah. yeah. okay, and we're not yeah. are we gonna hav hav an are we d have we decided on whether w we're gonna s supplement it with anything, you know, colours or particular gimmicky bits to it, we're not we're just gonna go for something we're yeah. yeah. okay. okey-dokey. yeah, i don't have any other questions on this. let's move over to yeah, sure.. yeah, the button that just does that, yeah. cool. mm yeah. mm-hmm. yeah, why should people buy this when they're already got a remote that came with the t_v_? what's that mean? okay, now the trouble is is we've already decided that we're going with the stuff that works already, that's cheap. yeah. maybe we could um of course, they do. one hundred per cent, that's your first thing, you go, oh i'm not gonna buy that, 'cause i dunno if it works or not. okay, well, what do you two think about this? yeah, what i don't understand what m yeah, and it this is just gonna all this is being used for is your television. it would that would mean you'd need a television that has bluetooth in it, which no no television does, does it? that would mean we'd have to make a television as well. no, that would be your telephone in with your television. yeah, and i nah, the televi the television would have to be a bluetooth compatible, basically. an and there is no there is no such thing. okay. okay. yeah, this that's that's very good. and and this is all tying in very nicely. the fact that it's made out of this rubber, we can throw it about. th we should encourage people to throw their remote controls about, because it charges itself up by doing it. but yeah, by the squeezing it the yeah, that's a great idea. well done. yeah. i wanna watch the pineapple channel. well spongy, that's where. yeah, we're we're ahead of the game there. okay. alright, yeah, no, this i this is good, so through all that we've we go we're right, we're gonna go go back to um going with the kinetic thing, that's great, using the spongy rubber that we were talking about that anti-r_s_i_ you can as you squeeze it you are not only therapeuticising yourself, you are charging the batteries, and um i'm not sure about the buttons being in the shape of fruit though.. yeah, this is true. well, okay, it seems like the only thing that we haven't really finally um agreed on is its image. like, yeah, we're we're saying no we don't want it to be fruit and vegetables, but we dunno what it should be, or like are we going yeah it looks slick, but what do what do we mean by slick sort of thing? i mean you said earlier on i it should be funky. l keep it clean, keep it clean. bright, but not too bright. like the volume buttons should be the all the same colour and the d and the the channel buttons should be one colour and stuff like that, do you mean? okay, what? okay. tha yeah, i mean we that's we we yeah. this is the remote control tomato. yeah. well, it's it's gotta be chew proof. so, what are you saying, maybe we should market it in different colours for different so we could do like the pink range, the blue range, the green range, the mm. well that's that can be down to bit of market researching you know, if that's easy enough to find out what colours are more popular. mm. okay. alright. well um, we'll alright let's what we're gonna aim to get together by the next meeting then um is from you catherine wi your y y you know you're gonna be working on the the look and feel design. um gabriel, you're gonna be working on, you know come up with the the user interface design. then basically, you two are gonna be working together on this. you won't be going off to your separate offices. um and i think you are gonna get a chance to play with some clay. i think, yeah, it's gonna you know, come up ki you know, be ab for the next meeting be able to come in and show us some some i some physical ideas. 'cause at the moment, uh you know, it's it's hard. we were kinda going, yeah, it's gotta feel nice, it's gotta look cool and that it's you know now we can actually start, you know, s some sort of physical something or other. um and you're gonna be working on the product evaluation. um. and i will be uh talking to the bosses, basically, and uh f fielding off some more spam and uh that's it really. keeping things t well, uh you know, ho hopefully uh keeping things together. um. yeah, that's this is this is uh good. so we know for definite we know we've we've now got some definite things going on. we definitely know how it's powered, we definitely know that um it's gonna be a simple buttons, we're not gonna be going for the new technological chip on print expensive things, so we've we're keeping the costs down. it's this rubber casing that we can sell as um fun and funky. don't know of any other remote controls that are made out of this stuff. people, you know, people are saying, oh, standard stuff gives you repetitive strain injury, well this remote control is designed to do the complete opposite, it's supposed to fix it rather than cause it. um. you know, we're gonna we we're gonna as a sort of extra something on it, you know what what extra things are there extra things this product have? we'll look into this lock key facility, although whether or not it happens, or is possible, i don't know, but something to look into. okay. i think that's um well done everybody. anyone have any uh any questions, everyone know what they're doing? 'cause if you don't, you'll i'm sure you'll soon get an e-mail about it. okay. right well. it's um we're we've still couple of minutes until our meeting's due to finish. but um i got a note saying that you two who are gonna be working together so bef before you all disappear off just hold hold fire. um. um i think, it's uh, yeah, i think, it's gonna be par part more of a profit sharing on the product. yeah, i think i i think that's i think that's the way it's gonna happen at the moment. yeah. yeah. i want a share in the space rocket. did you see that this k that this company we've made a spaceship. yeah. yeah.. yeah. mm. and the spaceship doesn't have the r_ have a massive r_ and r_ down the side of it but i still want one. okay. um i've just had a sign flashing up saying, finish the meeting. uh. yeah. yeah. it's not telling it's not saying do anything in particular just yet. so maybe you should go back to your own offices. yeah. yeah, it says you two\\n. almost. mm 'kay. no no no no, it's fine i'm just preparing. okay. where is that thing? oh sorry, couldn't see. would that work? okay, so that's me again. um so um for the energy sources we can have a basic battery, a hand dynamo which is which was used uh in the fifties for torches, if you remember that kind of which wouldn't be v wouldn't be v v yeah, yeah. it wouldn't be very fancy. you can have a kinetic provision of energy, which is used on some watches these days. so if you have just a bit of gentle movement that it will give it the energy to work. or you can use solar cells, but i'm not sure about that indoors, really, but yeah. i dunno actually. i dunno. um. think the the uh what would cost the less would be the basic battery, really. and uh if we want something fancier, i think the kinetic provision of energy could be nice, but i don't know if it's worth the cost. so we've got to discuss that. for the case of the remotes itself, um they can be a general case, which is just a flat one. you can have uh a curved one or a double curved one, if you know what i mean, so you know, kind of more ergonomic, that kind of suits the palm of your hand, that kind of thing. so um then the case material itself, so it can be uh uh either plastic or latex, uh rubber, wood, or titanium. and th for each of them you have uh cases where for example titanium, you can't use it for if you if we're choosing a double curved case, we can't choose titanium. and if we are choosing um solar cells then we can't choose latex for the case material, so we just have to take that into account. but if we're choosing just the flat case then we can go for anything. and i think we discussed earlier on the r_ s_ i_ problem thing, so we could uh yeah. yeah. and also it doesn't break as easily maybe, i dunno so rubber would be okay. uh s so if d okay. and then there are the push-buttons, so you can have basic push-buttons or a scroll-wheels, like you have on a mouse, um or you could have um l_c_d_, which gives you a display. um scroll buttons, as well. so if you use a rubber double curved case, you must use rubber push-buttons. so if we're going for rubber then we have to decide for the case. um and if we choose double curved then we have to go for rubber push-buttons. so it's a constraint. yeah, but is it a double curved one or not? if it's not a double curved, then we've got the choice for the push-buttons, if it's a double curve, we've gotta go for rubber push-buttons. if that makes sense. yeah.. no, but na le you see, you've got, okay, the energy that's one thing, then you have the case is uh, whether it's flat or curved. and that's we don't care if it's rub rubber or not, but then we've decided that we going for rubber for the case material. so if we've chosen rub rubber and if now we have the choice for the case whether it's flat, single curved or double curved. and i'm just saying if it if we choose it to be double curved then we need to go i dunno why, but we need to go for uh rubber push-buttons. so, either i dunno we just need to decide on the on the case. let's go crazy. and then, do i have a last slide? yes, i do. um so the push-buttons themselves they can be just simple or they can be so that's just the electronics between the but behind the push-buttons. um and the price that go with it with it, so the simple push-buttons are gonna be the cheapest. uh if we get a scroll-wheel, that's a higher price range. if we get an advanced chip which is um used for the l_c_d_, the display thing, then that's even more expensive. mm.. yeah. the infra-red. yeah. well, if if it's not chip on print then, i guess, you get different chip components, and you build them separately and doesn't include the infra-red. it's less expensive mm technically speaking, it's not as advanced, but it does the job, too. fo it doesn't, yeah, yeah, yeah. totally. yeah. so let's not go for the yeah, yeah. i agree. so it's either um the scroll-wheel or the push-buttons. well it'd be it'd be cool, but they are saying they've just developed it, i'm just guessing. but it's gonna be the most expensive option, probably and hm. just if you are really lonely, maybe. channel five. and then it switches on. okay, so i'll go back, maybe, to the previous slide and we can decide for each problem, what we should choose. so for the energy source, do we go for the battery or the cheaper option. are you happy with that? okay. so we'll go for the battery. then the case, do you want it flat or curved or sing or double curved? double? okay, so then if we use double curved case, then we have to u choose rubber push-buttons, and that's fine? p yeah. i thought they would give an option of flat buttons or a that they don't. mm. alright, that's me done. sorry. well bluetooth would, for example, enable you, i think, to um um connect for example you if you get a w call on your mobile phone, but your mobile phone is downstairs or something, you would get on your television you're being called by this person right now. things like that. no i no, but if you get bluetooth on the remote, you'd be able to i with the television, yeah. i was just trying to find an advantage. wha what w what advantage would you get for the maybe the kinetic mo provision of energy then. it's been done for watches, but i haven't seen that for remotes, yet. change the batteries ever again. yeah, well, and in little characters you say, yeah, but not too much. yep. no vegetables. well yeah, but apple would sue you for that. sued the beatles so yeah. why not? i'm gonna write that down. that's yeah. although i'd be curious to see how many uh you know, there are some colours that i wouldn i would never choose, and i would be curious how many people choose that colour. mm. and produce less of the silly colours, maybe. yep. alright. mm. cool. it is. great. that's true. doesn't yeah. are we taking these off?\\nhello. yeah. that's the kind of spam that everybody likes to receive. hmm. do you have any preference uh of order? i think she is still finishing her. hmm. okay, it's uh is it like a crank thing or something. well, there's sometimes combinations, i mean, like calculators do combinations of battery with but also using some solar power. uh i think, it has to be on the on the solar energy, but i don't know. let's have a squeezable remote. if it's rubber, isn't it malleable anyway, it doesn't matter if it's double i mean isn't a rubber case, mean it's completely flexed, i mean, it it flexes to whatever they want it to? mean so what's the difference between a normal rubber case and a rubble doub double rubber double curved case? okay. okay. go rubber. go rubber the whole way. i think push-buttons is yeah. th the the speech recognition um option is it doesn't seem really very promising for us uh, 'cause uh the yeah the example that they're already using it for is with the coffee machine, where, basically, you can program a sample wi um that when you say something it will give a response, and you program the response as well. just uh clips of tha that you record yourself. so you can program your coffee-maker that when you say, good morning, to it it says, hello rick, or whatever. but, i mean, it's not it would be one thing if it was speech recognition where you say something and it turns the t_v_ on like, turn the t_v_ on, and i turns comes on, but it's not that. it just gives you a it just gives you a verbal response. so, yeah, i mean, like what's the point of saying, hello remote, i mean, hello, how how are you? yeah, if you're really lonely, it is it's no, tha that w that w that would be more promising. it it's just a remote that talks to you. uh. i mean to certain cues. 'kay. yeah, i'm fine with the basic battery. hmm. yeah, so we want it rub rubber double curved. so rubber rubber keys, yeah. yeah.. yeah. we're giving them a way to burn off steam, basically, yeah. not that watching t_v_ should be that stressful. oh yeah, i guess t_v_ can be stressful, yeah, if you're watching sports. alright. alright. yeah, some of what i have to say ties into what catherine was just talking about. okay, so i'm continuing with the user interface uh topic. and so basically i consulted with our manufacturing division. it sounded like catherine was also speaking with them. uh i also took uh reissa's marketing findings from the last meeting into consideration um, 'cause i think that's that's crucial as far as uh what keys we're going to inc inclu what buttons we are going to include and and how they're laid out. uh and so the manufacturing division uh sent some some samples of of uh interface components that we might be interested in using that have been used in other products, uh like the coffee machine. so i already mentioned the speech recognition interface. i guess, we we basically vetoed that idea. it's it's pointless. uh it's just a sample sensor sample output. it would just be probably the most expensive part of our remote without any actual interesting functionality as far as operating the t_v_. uh so yeah, they they also give the uh they they suggested the idea of using a spinning wheel like you use on the side of an m_p_ three player like ipod. um so we've already addressed that and i think that would actually be worse for something like r_s_i_ i mean you got that thumb movement that you're constantly doing. um the other suggestion, and i i have a feeling that we're interested in in something more general, but they suggested uh, you know, going i a little bit into a a niche, like either gearing our remote towards kids, where you could have lot of colours um, the keys might be you know, funny or or, or uh something for the elderly, where the remote's very large and the buttons are very large and there's only a few buttons. but you know we can we can discuss this, but it sounded like from our last meeting we really wanted something that was general, but done well. uh um so, the key layout and design are really crucial. you don't want uh you want people to be able to quickly access the buttons that they use a lot without uh always pressing the wrong one um. and i didn't mention that we need a power button in our last i can give you an example here of uh, good layout and bad layout uh from our manufacturing department. so this would be an example of bad layout, where you have volume up and volume down, but they have a v_ on both of them, so uh it's sort of confusing for the user. uh this is the example of the giant remote that's impossible to lose. and for something for kids. yeah. um. and so, yeah, i th i think my personal preferences of we've all kind of talked about and seemed to be on the same page um. uh so i was against the speech recognition and against going uh towards anything in in a niche sense. i think it should be more general. i didn't i didn't think the spinning-wheel or the uh l_c_ display were were crucial for us. and, yeah, that's it for me. so we're we're not gonna have any sort of display i think uh. so, yeah, it's just gonna be just gonna be push-buttons. um. i think we shall have a limited number of buttons, ideally, i mean a a power, channel up, channel down, volume up, volume down, and a numerical keypad. uh. and some sort of it will either have a a lock button like we mentioned or or a cover or something like that. i guess it's to the point where we need to decide about that. well now that we've decided on our um it seems like we wouldn't wanna make it too busy and too sort of gaudy, but um yeah, i would say mayb maybe a couple of colours like uh like a black with with yellow and somewhere, like maybe the r_r_ can be yellow, or something like that. i i guess the fact uh also that we are having a rubber case uh would prevent us from having the cover function that we thought of before. i mean, 'cause uh s so if we wanna have a lock of some sort it would have to be a button. but i think that should be i mean um, i can speak with the button department, but uh i think that it should be easy to have a button that just prevents prevents the other uh the other buttons from operating. so that should be simple. mm. yeah. well it should be it should be maybe cutting edge in some sense, i mean have something that's little more technologically advanced than what's on the market. yeah. yeah. actually, i mean, these first two points we've already sort of gone away from, 'cause our rubber one is not fancy i mean it's different, but i wouldn't say like a rubber remote is fancy. if that's what people want then we maybe we're going in the wrong direction. and it's it's not technologically innovative either. mm. so is is the advantage of bluetooth that you can just like synchronise it with other electronics? yeah, that's basically what it allows you to do, right? yeah, the that wouldn't be the remote so much, i mean mm. yes, so can yeah, we can make the squeezing of the rubber be the be the generating like the energy generator. we're all about that. okay, so we could have keys that are like a b like a broccoli key and a uh and an avocado key on them.. yeah, that's great for us. right. yeah. yeah, that's great. yeah, i don't know how we incorporate we don't have to follow every trend, i guess. uh-huh. the power button could be like a big apple or something. they don they don't own all images of apples. okay, we'll make it a uh pomegranate, a big pomegranate.. yeah. yeah. mm. sure. the one thing i'm wondering about, i hope that we're not going like too much down a gimmicky road of of having i mean if somebody go goes into the store they're gonna see like three or four normal remotes, and then a big spongy pink t tomato uh remote. i mean what are ninety per cent of people gonna take? mm. yeah i mean, that that seems to work well with for products like ipod, where, you know, you have a variety of colours, that people feel like they're customising it when they buy it, even, you know, just just by the fact of choosing. right. yeah. okay. oh right. yeah. that sounds good. mm. right. alright. yeah. yeah. mm, i think we all know what we need to do now. okay. okay, i'll stay in here. does the pay-raise immediately come into effect on our next pay-check, or is that so we're buying fut i mean, we're getting futures in the company. so we really have a incentive to make this remote work. i'd like to share in the coffee machine profits, because that's really doing well. yeah.. this company has its its fingers in a lot of different pots. yeah, we're definitely not in the money making department. well i i did notice looking at i mean, they told you that they wanted whatev our product to represent the the r_r_ brand and and to be immediately noticeable. i mean, if you look like at the coffee maker at the at the corporate web page, it's not obvious. r_r_. well it is to us, because we we worked worked here for years and we use that coffee machine, but it's doesn't have the colour scheme of of the of the company anywhere on it obviously it's just sil silver and black. no. mm. okay. right, well, i guess that's us. okay. right.\\noh right okay. i cover myself up.. i've always wanted one of these, i really have. where do you buy 'em from? they're. yeah. oh my gosh. mm-hmm. batteries. it's here. ah. mm. mm. mm. yeah. mm. i think rubber's but after my after my fashion thing, i think you'll realise that rubber is more people. what about the just developed uh sample sensor? g there, the sample sensor, sample speaker thing. mm, i dunno. be cool. channel two. oh, it just gives an answer. oh, then then i thought i thought it was when they said i thought when they said, voice recognition, they meant um like, channel five, and it will change. like you talk to it. can i have channel five? oh, then forget about it. oh right okay. mm. mm. yeah. so it will look like something like this.. yeah. well the rubber push-buttons. don't you have to move your mm. mm. yeah, the rubber's good. yeah, so they can sit there and go like mm. mm. that does get annoying. uh-huh. well maybe we can right. well, i'm just basically letting you know what's happening in the markets and what the fashions are for next year. um. so yes, so from looking at this year's trends and fashions and also recent investigation that we've done in the remote control market, we have found that for the remote control market these are like most important aspects like that we really need to which we've already probably discussed. um the most important aspect is look and feel. so the remote control has to look and feel fancier than the ones that already that we already have. so it has to be yep. exactly. um second, uh it should be technologically innovative innovative. so technologically it should be like um work, basically, i guess. it should work. should that's new. yeah. yeah. mm. so, no loose that's why i was thinking, bluetooth, 'cause if you like put up bluetooth, and it's like a bluetooth remote control, everybody's gonna like, oh, 'cause bluetooth is the in thing nowadays, like it really is, like people and um when it comes to marketing like that's what people go for, they don't really care whether, you know, at the end of the day whether it works properly or not. well, they do, but it's like it's not yeah, but it looks good. if it looks good and it's it can just be there for decoration. but like you could always insert, yeah. yeah, but, i mean, people like well, if you're looking at if you looking at something that's going to be bought by people, you have to make it new, you have to make it state of the art. well, it doesn't like it doesn't have to be, you know, bluetooth, that was just an idea, but like it needs do something that, you know, is new. whether it's a battery it could be something really really minor, you know, like but i think we are really keeping to what is already out there, and people've already seen it, people've already got it. if we want something new, we need to move away from what we already have and um just go creative. and then you can market it. never have to change a battery again. i think, safety s yeah. third most important aspect uh is it's easy to use. and i think we've all um worked that out. um okay, in the fashion, how it's supposed to look. next year's fashion i very much in fruit and vegetables are thm are like the theme for cloths, shoes and furniture. so next year people will be buying, i found this really funny, you know, strawberry shaped chairs, and things. yeah. rubber things. um and as it's rubber the feel which is in this year is spongy, so it's it's not quite spongy, but spongy, i would say is yeah, so we're in. yeah. and so personal what i was just saying like move away from the current remote controls uh like the look and the feel of the current ones and change the look and feel, while still keeping to the company's image, basically. so yeah.. i had to say so we're moving in the right direction like mm. maybe make it like fruity colours or something. some sort. or mm. well i think, if it's rubber it needs to be different. i think, it's it should be i mean, what do you associate with rubber? you know like really different colours basically. okay, sor i sorry, i used the wrong word, what do you associate with the mate the material that material? um um like i'm just thinking bright colours. bright natural colours, nothing too bright, but too not yeah. like no lime green or bright yellow or bright pink. wanna make it different colours so anybody can choo like like yeah. and on the back of it have the logo. well i can say in this country, you'll get, you know, lots of people wanting something really funky and cool. like and kids will be walking in with their parents saying, mummy i wanna buy that one. and uh parents will see the will see the pro as well, because it's um like kids won't break it, it's not breakable if you throw it around. especially with younger kids, you know they can pick it up and and yeah. the only thing is is that really small kids might chew on it, but yeah. so so it's rea it's quite it's quite like um user friendly and also for different families, like like family use as well, so for little kids and for old ki like teenagers will like it, i think. especially maybe younger girls if it's in pink they'll be like pink remote control for their room something. yeah. so like you walk in, you're like, oh i like that remote control, because it's so bright, and then, and then the shop assistant comes up and says, oh what colour would you like? and then they go like, oh i can choose the colour wow. so it puts, i think, even the customer into more control over what they're buying instead of, you've got all colour it's either that or nothing. so they also get to pick. well, personally i like walking into a shop and choosing a colour. it's um yeah. mm. d you've got the evaluation. mm. yeah. s this gives you all the details? um. yeah. mm. mm.\\n\",\n          \"okay. here we go. alright, the agenda for thi oh. alright. um the agenda for this meeting is um we'll initially have the prototype presentation by our two designers. and then we will evaluate it, given the criteria that um that we gave gave it. and um talk about our finances, whether we were under or over our budget. i have a um a spreadsheet where we can calculate um our prices for every aspect of of what we've made, given our options. and um evaluate the product, as a group. and um so first we'll have the prototype presentation. do you need the um powerpoint for this? alright. on? a mango. okay. oh. okay. oops. yeah. notice you have a number ten button. okay. no problem. ah. oh. you press a plus button? oh okay. i've never heard of that kind before. yeah. yeah. oh. i but would you have to go zero plus one if you wanted to go to channel one or two? yeah but i mean if you press, it'll go to that channel right away. 'cause you gotta press the plus afterwards. yeah i know, but if if i wanna go to say number like sixty five, channel sixty five, if i press the six it'll go to channel six, and then i'll press the plus, and then it'll go to six and then put the five and it'll go to sixty five? i th um yeah it wouldn't be a problem. but i was just wondering like as long as we realise that's what it'll do. yeah. c_ and v_. right, where um where's the power button? oh okay. yeah. yeah. oh okay. yeah. ergonomic, definitely ergonomic. the spon yeah. yeah. bit of a stress ball feel. yes. i would. my goodness. there you go. genevieve? yeah. and something hmm. oh right. yeah. it looks more think like vanilla and banana would. okay yeah. kinda christmas, you know. yeah. cool. alright, thank you very much. good work everyone. alright. and so now that we've we have a prototype, uh we need to go over the finances and seeing if this prototype matches uh what our budget can handle. so, i have something i'm going to oh wait a minute. do you need to do a presentation first? yeah. i'm gonna check that out for a second. what time is it anyw oh yeah sorry you're right. evaluation criteria is next in line. yeah. just press um function eight again. and then again i think. one more time. yeah. yeah. okay. ooh. yeah. the look is a little bit more playful. oh definitely different yeah. oh you were only given red and black? oh okay. yeah. okay. yeah. yeah. it's mango. it's mango. yeah. i would say two. personally. yeah. yeah. yeah. yeah. yeah. i'd say maybe three. yeah we want it simple. yeah. i think so. yeah. yeah. one. th the plus number thing. yeah colour will definitely be a factor. i think that the logo could be smaller. and maybe not such a prominent way. maybe like at the bottom, kind of. oh it just had to be on there i guess. i like the appeal of it being like a big glob in your hand. maybe if the bottom was just sort of flat, and then the rest is like round. it would still be comfortable i think. we c we could handle it i think. ah it'd fall over all the time though. it'd be annoying. 'kay we're done designing. come on. i think, it was another colour and it was like i think it'd look okay. i think maybe a two. sure. yeah. yeah. durable. but you're our marketing expert. oh. exactly. exactly. yeah. i would give it a two still though. mm. oh yeah. yeah. yeah. yeah. we have the alarm system. i thought the light from the inside was gonna light up. or or was it gonna make a noise? you press the button it makes a noise right? yeah. awesome. awesome. i though w it was gonna make a noise. okay. oh okay. whoo. okay. yeah, totally. no problem, mm. totally. yeah. yeah, so it's just like channel six, six, enter. yeah but you don't have to press zeros. and then like twelve, enter. yeah. yeah. i think so. it's like right in the your thumb might get a little bit uh yeah. but it is soft. and that's kind of what the um the powerpoint slide thing said would be good for r_s_i_, so maybe it is but yeah. yeah. yeah. yeah. yes we did. well, yeah the colours are yellow and grey. so it could be grey on the banana one. yeah. mm, yeah. hum. i would say so. but maybe more like two 'cause there's no like pictures of fruit, it's just sort of naming it by a fruit. with the with the colours. yeah. yeah. that's fashionable in itself to have interchangeable plates. be like yeah. maybe if it was scented. yeah we have money for that. um alright so based on this evaluation, do we average them out sorta thing? oh. i would say two. one point nine or something? i don't know these things. um, between one and two. alright. yeah. i'm attempting to do that right now. yeah it is one point nine. ooh. go heather pauls. yeah. alright, now with that over and done with, our next step is to see if we are under budget. and um my computer's frozen. and now it's not. okay. so um in our shared folder, if everyone could go there right now, um i'm going to um steal a cable. um it's it's um it's an excel file. oh. yeah. 'kay there we go. um, production costs. and um i have to access that as well. one moment. 'kay so far i've added what i think or what is going on? great. it's blinking at me. it's locked for editing. read only. i'm gonna open up a second one then 'cause it's locked for editing. i have the original in my um my email account. i dunno. no. no, i was hoping that you guys could. um, there we go. okay here we go. so we need to tally up how much our w our product will be costing. so um if you can look up at the screen, um the large screen, oh i guess looking at your own too and telling me which one you think. okay we're using kinetic which is quite a large expense at three euros. um we're using a regular chip. um, it's cur it's double curved, so its curved all around. that's another three. we're already at five. um, we're using plastic and rubber, so good thing plastic is free, we're at eight. um s yeah. i guess we should do it just for one kind. so it's like special colour well we'll have two colours right? well one colour for the case, one colour for the buttons. so we can um, we have push button interface, so that's inexpensive. and um we have a special colour for the button, and we also have a special form. and a special material. which puts us just barely under budget. hurray. yeah. good work guys. so um our operating cost is twelve twenty euros. awesome. and back to our powerpoint. so we've 'kay. yes we are. so we need to do a product evaluation, again, which is probably um i dunno. a different extension of a hmm. yeah 'cause we're talking about leadership, teamwork. yeah. alright so um do you guys feel like there was room for creativity? pushed for creativity? ye okay. so it'd be like need more time and materials. but you were allowed m creativity? i think so as like but you were supposed to have creativ right. right okay great. leadership? is this me being like, guys do you like me? um. yeah. yeah. oop okay. teamwork? i think we worked great as a team. yeah? alright how were our means? we needed more play doh colours. yeah. but ever everything else was satisfactory? is that good yeah? new ideas found. i don't really know what that means. hmm? yeah. yeah. yeah. each other's mm. okay? well with that achieved, our last slide is our closing slide. yes our costs are within budget. it's evaluated generally positively. and um don't forget to complete final questionnaire and meeting summary. then we celebrate in such a way that i have no idea. alright? okay, bye.\\nokay. um yeah. i just got a few slides, so show them. thank you. do you want to present it? yeah, here we are. mango shape. the l_e_d_. so it's palm-held. yeah. you just need the nought. so one plus one would be eleven, or yeah because if you on your average um remote, if you press one twice you just go to um or uh say you wanted channel twelve, you press one, and then you go to channel one, and then two then you'd just go to channel two, instead of twelve. so if you did like one plus two you could go to channel twelve, or two plus two is channel twenty two. oh. well i don't mind, we can further define that. i wouldn't have thought it'd be a problem that it went to channel six first, in like on the way to channel sixty five. but i suppose it's not as snappy. yeah. yeah. if you don't put it yeah. yeah, that yeah. mm-hmm. um and channel, which is so you could just go like that without thinking about it, like it's the bigger r_. so it's just like. we deci yeah um we went for like a a circular design for the numbers because we thought that's kind of a more natural movement than just going like that with your thumb. uh e ergonomics are all considered. yeah. it could cause another type of repetitive stress injury though. but yeah, no i mean it's a different movement so yeah. um and the feel of it, i mean, we've made this out of play doh, which is representing the, you know, the rubber, and the spongy rubberness. um 'cause it was said before in the material specification that this the this anti-r_s_i_ um material is often used in stress balls so this has got a you know a bit of give to it, and it just feels feels different. would you like to feel it yourselves? how it fits in the palm of your hand? thanks. and you? o okay, as for the colours, we were presented with um a limited range of colours for this prototype. but we're thinking that, seeing as we're having it in interchangeable casing anyway, that this is not necessarily a representation of the true colours that we would necessarily use. or the combination. um and we're thinking to carry-on with the fruit and vegetable theme, the colour um combination just could just be named after different fruit, like banana could be black and yellow, watermelon red and green, or vanilla might be the most popular if it just uh blends in more settled cream instead of the others are all a bit garish. banana's more representative of our colour scheme, like the company the yellow and black. so that for corporate identity that would probably be the most strength. i mean watermelon, you know, m probably appealing to the yeah, seasonal. apple green, brown, more kinda trendy, you know, khaki yeah. okay. um yeah we thought of the components it was definitely um a focus of ergonomics and just a single ha handheld device, i mean you don't need to use both hands, one hand to hold this and type in with the other, you can just use your thumb. um, as we said the rubber's probably used for comfort and anti-r_s_i_ and that's about it. mm-hmm. mm go feel i think. we've been quite successful with the rubber coating and yeah. i think the colour has a lot to do with it. i mean th the colours we were given for making the prototype aren't the colours that i think we would've necessarily chosen. it's not the kind of ooh uh at all sleek red, black and yellow, and orange. um but if you can imagine that in like a s just a maybe uh a kind of pale metallic-y finish or something well i know know it's for rubber. i mean diff if you can visualise this in nice colours i think it would look quite fancy. oh well, potato, mango, fruit and veg. potato's fine. potato's fine. yeah. totally. it's really adaptable. for the fancy i uh two, three. yeah and the use of the rubber. for the anti-r_s_i_. the l_e_d_ use isn't particularly innovative and we don't have any scroll buttons, it's all pushbuttons, there's no l_c_d_ control, so if we're thinking about the rest of the market, it's sort of probably halfway. in some aspects it is, like we said. yeah. though it was our specification. yeah. yeah. yeah. yeah and perhaps the turning on but mm. again i think the colour comes into this. okay. not in don't worry. i suppose i've got quite big hands. thing is like that, it's not going anywhere particularly. yeah. uh yeah, it's less um, what's th ha. h it's got higher centre of gravity like that. i would definitely go for that rather than like your average plain old remote like that, but definitely in another colour, i'm not happy with those colours. yeah. yeah. yeah. and the kinetic energy, shaker-style-y, whoo, ooh no. but you know, those'll be firmly on. mm, yeah, that's true. yeah. good point. yeah. yeah. does this prototype match the operating behaviour of the average user. yeah. because yeah, because the most accessible buttons are the volume and the and the channel-changing. and it's just you won't have to think about it. you don't have to look down to find them. they're clearly there, easy to use. simple. yeah. mm. yeah. it yeah l lights on and, or flash as well. but i mean it's not obviously obvious from the outside that that's gonna happen 'cause you can't s particularly see an alarm. yeah. but when the alarm's not yeah. if you yeah. you could s yeah. well the thing is, if it was had an alarm system, i mean, when it when it lights up as we i mean it could light up when the alarm went. but if it was hidden underneath the cushion or something, there wouldn't be any point. so you can't see the alarm, but it would light up. yeah. alarm, but you can't see an alarm inside uh the alarm system itself. yeah. yeah. it w yeah. sorry. yeah. sorry heather. that wasn't very clear. yeah i think just because it's we've decided to reduce it down to the basic buttons, i think that in itself makes it so much easier to use. mm. and or sixty six enter, y yeah i think that's probably more straightforward. yeah. good ooh. mm. oh. injury. yeah, that's what i was thinking. we may have to do some more research into other strain injuries that we don't know about. mm-hmm. mm. yeah. i think we're getting that's true. mm. i think yeah, i think too. yeah. mm. yeah. i think this is the the factor that we've been least successful in confronting. yeah. four i think. well i don't what do what okay. yeah. like um the colour scheme names and stuff. yeah. yeah. yeah. it is. the thing is, i think if somebody saw that and you said what was that inspired from, i don't know if you'd instantly say mango. oh yeah. there we go. that would be great. um okay. it's between one and two. so that's pretty fantastic. mm. it seems like it should be more around two. do we have an online calculator? okay. oh wow. well done. well that's excellent. production costs. it says it i think it just means that we can't add any more to it now. have you have you completed it? oh right. okay. okay. yeah. yeah. yeah. double double-curved yeah. yeah. yeah. yeah. mm-hmm. oof. congratulations guys. of the actual project rather than the product? a project? is is yeah. so wh how we actually went round uh about doing it. i think we were pushed. i mean we weren't really given a lot of time, or materials, yeah, to go about our design task. so i think we could've done with a bit more time. yeah. yeah. yeah. well we were just limited by resources really and like if we had decided to use the l_c_d_ screen, and like solar power backup and everything, then we wouldn't have been able to afford that. so that did limit creativity. just resources. but yeah. the fruit and veg idea. yeah we did. we've, uh seeing as we've come out with what we intended. a pro um a product within the budget. i think that's a sign of good leadership and also our personal coach helped us along the way, so you know i think it's been fine. yeah. good timing. and project manager of course. yeah. yeah. um yeah and more play doh, 'cause that was all the red we had. so even if we wanted to make a bigger prototype, we wouldn't have been able to. yeah. it could be really straightforward for the computer. i think the only thing was having to remember to you know to tick the okays but i think i was the only one who struggled with that. mm. uh me too. yeah. well i think we've all learnt stuff from each other, like the n um yeah. just about each different. got new ideas from each other. yeah. yeah. sorry? oh yeah. well mm, did it come into the into i dunno if we counted that in the costs. yes. uh. fantastic. okay, brilliant. thank you very much.\\num this is what we came up with. it's a pretty simple design. it's um based on a mango? yeah. and we yeah. and we have the company logo here and this will be the infrared here and this'll be the power point, the on off button kind yeah. it's in the middle of one of the little r_s. and then the other one is the power. and uh we just have a simple design. we wanted it all to be accessible from your thumb yeah palm-held and all the buttons are accessible from your thumb. so you don't have to oh that was a mistake, wasn't it? right no, that's a zero. take that one off. sorry. i was in charge of the numbers. and this is just if you've got like eleven or twelve or thirt the plus. you can go one, three or something. you press that first and then you go one three yeah. well we just thought, we have all the numbers here, so we wanted something representative of numbers larger than ten and so the plus and then yeah. no no, th all that's why we have all these numbers. these numbers um these numbers all work independently up to nine. yeah. oh no. uh, the plus is only for if you're going past the number nine. you p oh. no you press the plus first. i i well it doesn't we haven't really s i would've thought you pressed the plus first and then the six five, but she says plus press which what do you think is simpler? it's a yeah. yeah. oops. yeah. yeah. yeah. so a channel. just so we can flick it's in the middle of one of the little r_s. yeah, so it's all accessible. without m taking your hand off the remote. and it might actually help with the repetitive stress injury as well. okay. yeah. yeah. yeah. yeah. of play doh yeah. 'cause it'd be quite subtle and yeah. yeah, yeah, yeah. the pomegranate's kinda girly and funky kind of, and then the vanilla's more for the more sophisticated customer who just wants something that fits in with all decor. yeah. mm. well yeah. yeah. yeah so not very sleek and we don't wanna go for black because most remote controls are black or grey. so we want it to be stand out that way, anyway. yeah. a metallic-y finish we were thinking. polished. okay yeah. we we were we were thinking about yeah. i w i'd say two i think. fanciness. yeah. yeah. mm. i'll go for three as well. no. wouldn't be simple, yeah. yeah. yeah very. i think one for that. yeah. no. yeah that's the only thing yeah. it's definitely yeah. but the remember the management said that it it had to be prominent. yeah. yeah. but you know what i've just thought of there now. what where's it gonna sit in your living room? is it not gonna fall off the arm of the sofa? yeah. but then it wouldn't sit as comfortably in your hand. yeah. oh that would be nice. yeah. three. you would though, 'cause it's bit it's more interesting than other remotes. yeah. yeah. i think we have to market it in the right way, that um to say that it is simplistic. so people don't just see it and think, uh, this is so simplistic, i don't want to spend twenty five euros. we have to market it. and the kinetic energy part. yeah. don't shake oh no the plus. you're use the zero. make a new one. i think they're about ten po ten pound, aren't they? about ten pounds. fifteen? yeah. mm. yeah. i think it does very well. the zap yeah. uh yeah. yeah the bu when you press the alarm system, the lights behind the and it'll vibra it'll be again in the marketing. yeah. the light it will. but but both yeah. oh, that would be brilliant. i'd be tempted to yeah. it would have to be in the market yeah but you still couldn't see it. it would just be a little speaker on the back or something. so the plu the plus w once that's written down on the page that'll be really simple, won't it? yeah. that kind of annoys me though, when it's zero six when you have to press i don't know why. oh okay. right. alright, aye. yeah. i'd say w yeah one. yeah. yeah. hmm. but if you're zapping yeah. i don't think it will f yeah, the biology. mm. yeah. yeah. i i'd say t two. yeah. yeah. n we we can't really do that because for example on the banana theme we can't have it as being yellow. it won't stand out. so n it's not always gonna be the same colour. gray, yeah. yeah, could be grey. yeah that's right, we didn't even rea yeah. perhaps a metallic or or like that's grey, and it wouldn't be that expensive to have a little bit of metal. no? that isn't rubber. okay. following that briefing we did. yeah. yeah. yeah. yeah. i think w yeah, i think one. well that was our brief and we followed the brief. well we haven't got a big banana but oh yeah. no. no. oh that would be class. yeah. two. it's yeah. close to two. yeah. i got yeah, 'cause we've a four to bring down. uh, aye. yeah. uh, should've added five. this is. yay. is that the project document? yeah. oh right. what about a special colour? are we using that? yeah. and a special material. yeah. that's good. yeah. the ma or materials. yeah. yeah. yeah. creativity. yeah. yeah. yeah. yeah. yeah. yeah, it c it might've been bigger. yeah. i'm actually not sure if i've saved my presentations. yeah. through discussion. yeah. and we were a able to modify each other's ideas to fit in with our areas of expertise. if if it if it if it can be afforded. yeah. yay. yeah.\\ni'm sorry. what was the where's the l_e_d_? oh. okay. oh, there's no e okay. okay. sixty. well the there is a there's a delay on remotes i think. where you can have it it's like a five second input time. so as long as you hit them dada it should be fine. as long as there's not a big pause between the t hitting the two buttons. was there so on the top there is volume and channel up volume up. okay cool. yeah. it's the r_. mm-hmm. mm-hmm. yes. oh it's nice. oh i think i killed the five. i did. i killed the four. oh god. oh it smells good. bravo you want the i don't know what order it goes in. i have one. evaluation cri okay. that's me. hello. oh there we go. okay. come on my computer. come on. sorry my computer's giving me technical difficulties. should i press it again? last time i did that it sh okay. you're right. oh. still not there. okay now i think for this one i could would you guys prefer use the whiteboard or mayb maybe i'll just do it on right on the screen where you can see it. um, we're gonna be doing an evaluation report together based on the protoptype that we've just seen. um and looking looking back at my notes from our both our conceptual and our functional meetings, um i made a list of what our original requirements and goals were, um, back to our kick-off meeting this morning. um, and we'll evaluate as to whether we've s done what we set out to do. um and we're gonna do it on a one to seven scale where one is true and seven is false. so basically the lower p the lower the points the better. okay so question number one. does the remote whoops. sorry. oh i'm not gonna be able um, i'll do it on the whiteboard. i can't change it so i'm g i'm gonna ask you to push it down once. i'll write down our scores up on the okay so number one. do we have a fancy look-and-feel? yeah i guess that depends on your definition of fancy, but it's definitely different. it's not your traditional yeah. mm-hmm. yeah. mm-hmm. yeah. i kinda i like the potato look. it's very different. it's what? oh sorry the mango the mango look. yeah it is, fruit or vegetable depends on your mood. so i myself would say a one or a two. it's a two? okay, and p one being true. so two. okay, actu that's pro that's gonna get confusing, like that. okay so question number two was is it techn technologically innovative? so i know we have the kinetic energy which is very innovative. use of the rubber, the use of the l_e_d_. isn't mm-hmm. yeah. and i think i mean it it's tough to say because we were we didn't want it to be any more innovative than this, because then that would've defeated the purpose. so i mean i we'll put three, but i think we actually reached our goal. we didn't want it any more than that. okay question number three. uh, will it be easy to use? yeah. yeah. s yeah i think it's you can't really get confused with that. i mean, there'll be s we have to work out the uh number the plus system. but once that's figured out, it should be fine. number four. is this a good-looking remote? remember that seventy five percent of users find most remote controls ugly. mm-hmm. whoops. should just not touch it. this time it's the three i killed. i was just wondering if it should be like flatter. or well yeah the bottom could be like ch chopped a bit. oh. that's true. maybe, it could it could be on the bottom, so you wouldn't loo like if it's flat here, so it sits up. like that. i g if it's weighted maybe. details, details. okay. so, is this a good-looking remote? would we wanna show it off to our friends? yeah. yeah? i mean i gue yeah, it's personal taste, but yeah. okay, so should we say two for that? yeah? okay. uh, question number five. what's um will people be willing to spend twenty five euros on this product? remember that eighty percent of users were willing to spend more money when a remote control looked fancy. mm-hmm. yeah it the marketing will have a lot to do with it. shake it and the buttons fall off. no, i guess, i don't know much about the remote control industry, how much your average sells for, but i know i am, aren't i? but you don't have to buy batteries. so in the long term this can actually save you money. so we'll market it that way too. so yeah i think with a good marketing scheme um and the personalisation options, it'll yeah. okay number six. can someone read it out? or um yeah. so that was mainly that the statistics we said mm-hmm. yeah i guess the i think the key word there is average, 'cause there were some people that used the uh video input and sound and stuff. but they're not you and i really. so. okay so one? okay. number seven. c heather could you push it down? will this remote control be easy to find when lost? remember that fifty percent of users lose their remote regularly. now is there the is the alarm system still was it implemented? it turns into a duck and starts quacking. here i am. um okay. we oh you're just explaining why it's not on the prototype. but yeah, it'll be there. so we can we could say that we can give it a one, because compared to every other remote ever m ever made, this one will be easier to find. okay. um question number eight. will it be easy to learn how to use this remote when brand new? remember that thirty four percent of users usually found it difficult. so it has to be yeah, it's eas they'll pick it up and they'll know what to do. the plus thing needs to be worked on. yeah. well do does it make more sense for the middle one to be an just an enter button? so then you would have to push two buttons every time at least. you could just press six enter, or one two enter. yeah. um, okay so we can we'll say yes it's uh one? okay. question number nine. uh, will it minimise the effects of r_s_i_, which was repeated strain injury? um, which affected over a quarter of users. s it's soft, and and people could mm-hmm. i don't know what other options there are. could i mean, you could hold it in your left hand and d use your index finger. but there's not really any other options unless it's like a keyboard. so, i think we did as as much as you can with a remote control. so, one or two do you think? two okay. okay number ten. did we somehow incorporate the company colour and logo? now is the colour gonna be there even if it's like vanilla? is the yellow mm-hmm. it sounds like the colour's something that we but i mean the yell yeah d yellow's ugly though, depending on the so i think we'll have to talk to our executive managers, and see if we can get away with just the r_r_. okay. yeah. and the buttons in the middle. okay. so, do you think that's more of a three then? three, four? four? well we have good reasons for it, so we but we can still put a a four? okay, and final question. um, did we stay true to our motto and put the fashion into electronics? current trends of fruits and veggies, desire for sponginess. yeah. no, uh, are the plates interchangeable? i think i missed a few they are? so you can have banana and kiwi and okay. okay, so that's something that's kind of in the making too, like maybe it'll become more mm-hmm. yes we do. so i wh what was i gonna put for that? a two for fashion? okay, so our average there, five, six, eight, ten, eleven, twelve, thirteen, fifteen, nineteen, twenty one, divided by eleven is between okay. um. yeah, that's very good 'cause the highest we coulda got is one. does that seem right then? okay. sorry. are you gonna do that? okay. oh is it locked 'cause i'm in it? or okay. mm. 's good. mm-hmm. yeah and the conceptual and functional. like we were very creative in in coming up with an idea i guess, but m when we can down to it. okay. mm-hmm. yeah. good leadership, i think we stayed on task. mm-hmm. and the timing was good. we never were pushed for time, or sat around doing nothing, so was good teamwork. i think we are well-suited to our roles. oh really? okay. yeah. the computer programmes are good. the yeah. i don't think there was anything yeah. they'll probably still be there. um i'm not sure, new ideas found. yeah well i guess we really it we bounced off of each other, which was cool. like based on marketing stuff and then you'd say something about interface and yeah, worked well. mm-hmm. oh does it have smart materials by the way? does it have smart materials? oh yeah. mm-hmm. mm-hmm. by watching t_v_? mm. conclusion? dadada.\\n\"\n        ],\n        \"semantic_type\": \"\",\n        \"description\": \"\"\n      }\n    },\n    {\n      \"column\": \"Abstract\",\n      \"properties\": {\n        \"dtype\": \"string\",\n        \"num_unique_values\": 94,\n        \"samples\": [\n          \"The project manager opens the meeting by welcoming everybody and saying they will be developing a new television remote control.\\nThen each group member states his/her name and role in the group.\\nThe project manager states that the remote needs to be original , trendy , and user-friendly.\\nThe further work will be on the functional , conceptual , and detailed design.\\nSince they all know what a whiteboard is , they do a virtual drawing by each stating their favorite animal.\\nThe project manager tells them the project budget.\\nThey proceed to discuss problems with current remotes as well as preferable styles and looks , such as using face-plates so the look is changable.\\nThe project manager closes the meeting.\\n\",\n          \"The project manager recapped the decisions made in the previous meeting.\\nThe industrial designer discussed different options for batteries , materials , and components , as well as restrictions involved in combining particular materials , components , and batteries.\\nThe team then discussed and decided what materials , components , and what type of battery to use in their product.\\nThe interface specialist presented examples of existing remotes on the market with good and bad layouts and stated what features the remote required.\\nThe marketing expert discussed research from trendwatching reports , finding that products now require technological innovativeness , a fancy look and feel , a spongy feel , and a fruit and vegetable theme.\\nThis lead to a discussion on whether to use Bluetooth or infra-red technology in remote.\\nThe team then discussed how to incorporate a fruit and vegetable theme into the remote.\\n\",\n          \"The project manager opens the meeting by stating the agenda.\\nThe designers give the prototype presentation , showing their simple design that is based on a mango.\\nThey point out the company logo and LED , and demonstrate how the device is palm-held and thumb-acessible.\\nThey also discuss the numerical , volume , channel , and power buttons as well as the color scheme.\\nThe marketing expert administers the product evaluation , and they rate each of the ten criteria on a scale of 1-7.\\nThe criteria includes fancy look-and-feel , technological innovation , ease of use , look , whether people would be willing to spend 25 Euros for it , whether its operating behavior matches the average user , ease of finding when lost , ease of learning to use , whether it will minimize RSI , incorporation of company colors and logo , and whether it follows the motto.\\nThey average the scores and get 1.9.\\nThey check the product costing and find that their operating cost is 12.20 Euros.\\nIn evaluating the project process they are pleased with their creativity , leadership , timing , teamwork , discussions , and overall product given the resources they had.\\nThey close the meeting by thanking one another.\\n\"\n        ],\n        \"semantic_type\": \"\",\n        \"description\": \"\"\n      }\n    }\n  ]\n}"
            }
          },
          "metadata": {},
          "execution_count": 5
        }
      ]
    },
    {
      "cell_type": "code",
      "source": [
        "from transformers import AutoModelForSeq2SeqLM, AutoTokenizer\n",
        "\n",
        "device = \"cuda\" if torch.cuda.is_available() else \"cpu\"\n",
        "\n",
        "model_ckpt = \"google/pegasus-cnn_dailymail\"\n",
        "\n",
        "tokenizer = AutoTokenizer.from_pretrained(model_ckpt)\n",
        "\n",
        "model_pegasus = AutoModelForSeq2SeqLM.from_pretrained(model_ckpt).to(device)"
      ],
      "metadata": {
        "colab": {
          "base_uri": "https://localhost:8080/"
        },
        "id": "BSqMV6gXoxib",
        "outputId": "336b7738-e146-49de-91ca-4acf0e1edae8"
      },
      "execution_count": null,
      "outputs": [
        {
          "output_type": "stream",
          "name": "stderr",
          "text": [
            "/usr/local/lib/python3.10/dist-packages/huggingface_hub/utils/_token.py:88: UserWarning: \n",
            "The secret `HF_TOKEN` does not exist in your Colab secrets.\n",
            "To authenticate with the Hugging Face Hub, create a token in your settings tab (https://huggingface.co/settings/tokens), set it as secret in your Google Colab and restart your session.\n",
            "You will be able to reuse this secret in all of your notebooks.\n",
            "Please note that authentication is recommended but still optional to access public models or datasets.\n",
            "  warnings.warn(\n",
            "/usr/local/lib/python3.10/dist-packages/torch/_utils.py:831: UserWarning: TypedStorage is deprecated. It will be removed in the future and UntypedStorage will be the only storage class. This should only matter to you if you are using storages directly.  To access UntypedStorage directly, use tensor.untyped_storage() instead of tensor.storage()\n",
            "  return self.fget.__get__(instance, owner)()\n",
            "Some weights of PegasusForConditionalGeneration were not initialized from the model checkpoint at google/pegasus-cnn_dailymail and are newly initialized: ['model.decoder.embed_positions.weight', 'model.encoder.embed_positions.weight']\n",
            "You should probably TRAIN this model on a down-stream task to be able to use it for predictions and inference.\n"
          ]
        }
      ]
    },
    {
      "cell_type": "code",
      "source": [
        "def generate_batch_sized_chunks(list_of_elements, batch_size):\n",
        "    \"\"\"split the dataset into smaller batches that we can process simultaneously\n",
        "    Yield successive batch-sized chunks from list_of_elements.\"\"\"\n",
        "    for i in range(0, len(list_of_elements), batch_size):\n",
        "        yield list_of_elements[i : i + batch_size]"
      ],
      "metadata": {
        "id": "8MLpnI2koyvL"
      },
      "execution_count": null,
      "outputs": []
    },
    {
      "cell_type": "code",
      "source": [
        "def calculate_metric_on_test_ds(dataset, metric, model, tokenizer,\n",
        "                               batch_size=16, device=device,\n",
        "                               column_text=\"article\",\n",
        "                               column_summary=\"highlights\"):\n",
        "    article_batches = list(generate_batch_sized_chunks(dataset[column_text], batch_size))\n",
        "    target_batches = list(generate_batch_sized_chunks(dataset[column_summary], batch_size))\n",
        "\n",
        "    for article_batch, target_batch in tqdm(\n",
        "        zip(article_batches, target_batches), total=len(article_batches)):\n",
        "\n",
        "        inputs = tokenizer(article_batch, max_length=1024,  truncation=True,\n",
        "                        padding=\"max_length\", return_tensors=\"pt\")\n",
        "\n",
        "        summaries = model.generate(input_ids=inputs[\"input_ids\"].to(device),\n",
        "                         attention_mask=inputs[\"attention_mask\"].to(device),\n",
        "                         length_penalty=0.8, num_beams=8, max_length=128)\n",
        "        ''' parameter for length penalty ensures that the model does not generate sequences that are too long. '''\n",
        "\n",
        "        # Finally, we decode the generated texts,\n",
        "        # replace the  token, and add the decoded texts with the references to the metric.\n",
        "        decoded_summaries = [tokenizer.decode(s, skip_special_tokens=True,\n",
        "                                clean_up_tokenization_spaces=True)\n",
        "               for s in summaries]\n",
        "\n",
        "        decoded_summaries = [d.replace(\"\", \" \") for d in decoded_summaries]\n",
        "\n",
        "\n",
        "        metric.add_batch(predictions=decoded_summaries, references=target_batch)\n",
        "\n",
        "    #  Finally compute and return the ROUGE scores.\n",
        "    score = metric.compute()\n",
        "    return score"
      ],
      "metadata": {
        "id": "VKkYlnJcoysf"
      },
      "execution_count": null,
      "outputs": []
    },
    {
      "cell_type": "code",
      "source": [
        "from datasets import Dataset\n",
        "\n",
        "# Assuming `data` is your dataset in a format compatible with Hugging Face's Dataset\n",
        "dataset = Dataset.from_dict(dataset)\n",
        "\n",
        "# Split the dataset\n",
        "train_testvalid = dataset.train_test_split(test_size=0.2)\n",
        "test_valid = train_testvalid['test'].train_test_split(test_size=0.5)\n",
        "train_dataset = train_testvalid['train']\n",
        "test_dataset = test_valid['train']\n",
        "valid_dataset = test_valid['test']"
      ],
      "metadata": {
        "id": "D0FYeiyBrWDr"
      },
      "execution_count": null,
      "outputs": []
    },
    {
      "cell_type": "code",
      "source": [
        "train_dataset"
      ],
      "metadata": {
        "colab": {
          "base_uri": "https://localhost:8080/"
        },
        "id": "vwd1SHCOuMsE",
        "outputId": "55104d88-40e3-4bb2-fd58-54395c088cd1"
      },
      "execution_count": null,
      "outputs": [
        {
          "output_type": "execute_result",
          "data": {
            "text/plain": [
              "Dataset({\n",
              "    features: ['File Name', 'Transcript', 'Abstract'],\n",
              "    num_rows: 75\n",
              "})"
            ]
          },
          "metadata": {},
          "execution_count": 10
        }
      ]
    },
    {
      "cell_type": "code",
      "source": [
        "def convert_examples_to_features(example_batch):\n",
        "    input_encodings = tokenizer(example_batch['Transcript'] , max_length = 1024, truncation = True )\n",
        "\n",
        "    with tokenizer.as_target_tokenizer():\n",
        "        target_encodings = tokenizer(example_batch['Abstract'], max_length = 128, truncation = True )\n",
        "\n",
        "    return {\n",
        "        'input_ids' : input_encodings['input_ids'],\n",
        "        'attention_mask': input_encodings['attention_mask'],\n",
        "        'labels': target_encodings['input_ids']\n",
        "    }\n",
        "\n",
        "train_data = train_dataset.map(convert_examples_to_features, batched = True)"
      ],
      "metadata": {
        "colab": {
          "base_uri": "https://localhost:8080/",
          "height": 104,
          "referenced_widgets": [
            "885a4f1193724917b1e83798f6ec6e0b",
            "aca588e1a74946a3ba7389e8c9e1cea9",
            "ac562d1ec4d54d909fb7f4f07625763a",
            "b3798e531a864ed5a0716b4633b16e96",
            "9ca272622419493b9c5c40c4ceeafa70",
            "2745fa2abe584e5d9f80dffdd4bd0e86",
            "2f5f009c88e94d08a734314e82b82d72",
            "2e6d96a8b25f42b19badd9a825507b3f",
            "570e9edd75c94aad970428a1c58cb025",
            "6e658e7c627046078afdf55367dd3179",
            "7a92aeecc0874fcf8ed0f56ca11c6e57"
          ]
        },
        "id": "g4S1ngTnoypq",
        "outputId": "4f81249d-a241-4d58-c5f2-a2a57b34f7db"
      },
      "execution_count": null,
      "outputs": [
        {
          "output_type": "display_data",
          "data": {
            "text/plain": [
              "Map:   0%|          | 0/75 [00:00<?, ? examples/s]"
            ],
            "application/vnd.jupyter.widget-view+json": {
              "version_major": 2,
              "version_minor": 0,
              "model_id": "885a4f1193724917b1e83798f6ec6e0b"
            }
          },
          "metadata": {}
        },
        {
          "output_type": "stream",
          "name": "stderr",
          "text": [
            "/usr/local/lib/python3.10/dist-packages/transformers/tokenization_utils_base.py:3892: UserWarning: `as_target_tokenizer` is deprecated and will be removed in v5 of Transformers. You can tokenize your labels by using the argument `text_target` of the regular `__call__` method (either in the same call as your input texts if you use the same keyword arguments, or in a separate call.\n",
            "  warnings.warn(\n"
          ]
        }
      ]
    },
    {
      "cell_type": "code",
      "source": [
        "train_data"
      ],
      "metadata": {
        "colab": {
          "base_uri": "https://localhost:8080/"
        },
        "id": "G_9zF8-SwHXM",
        "outputId": "c86f7846-14ff-4725-a658-2fcca0d5a4aa"
      },
      "execution_count": null,
      "outputs": [
        {
          "output_type": "execute_result",
          "data": {
            "text/plain": [
              "Dataset({\n",
              "    features: ['File Name', 'Transcript', 'Abstract', 'input_ids', 'attention_mask', 'labels'],\n",
              "    num_rows: 75\n",
              "})"
            ]
          },
          "metadata": {},
          "execution_count": 12
        }
      ]
    },
    {
      "cell_type": "code",
      "source": [
        "validation_data = valid_dataset.map(convert_examples_to_features, batched = True)"
      ],
      "metadata": {
        "colab": {
          "base_uri": "https://localhost:8080/",
          "height": 49,
          "referenced_widgets": [
            "d68a752cd2b941b4ab6dcb0aa0d97492",
            "335d7f55ff854a19bd25600a91043a5d",
            "d1c871c6cd7346f48f43acfa1c529cc1",
            "b4f8ac295fea4cc4b7ea0809b934ea46",
            "d6f4688a417e4d8688328f47d7a6adc1",
            "35ab7918a2f14dae96ee479b8266fb9d",
            "4383d9a7f3be4a7781927a4dcb218ef2",
            "230d17395ef644f7882f4a3b7c5ae5a3",
            "6649415381354b79b9be2d26886b75c7",
            "efa77fd85e3a418b995e6f2c10cc6e4a",
            "ee02b83456f14cb4a136ede3d89ad0a8"
          ]
        },
        "id": "bqpQ15IAwWfi",
        "outputId": "47046fe6-4736-48e2-a0bb-5f45a566811f"
      },
      "execution_count": null,
      "outputs": [
        {
          "output_type": "display_data",
          "data": {
            "text/plain": [
              "Map:   0%|          | 0/10 [00:00<?, ? examples/s]"
            ],
            "application/vnd.jupyter.widget-view+json": {
              "version_major": 2,
              "version_minor": 0,
              "model_id": "d68a752cd2b941b4ab6dcb0aa0d97492"
            }
          },
          "metadata": {}
        }
      ]
    },
    {
      "cell_type": "code",
      "source": [
        "from transformers import DataCollatorForSeq2Seq\n",
        "\n",
        "seq2seq_data_collator = DataCollatorForSeq2Seq(tokenizer, model=model_pegasus)"
      ],
      "metadata": {
        "id": "yMvsSB2coymv"
      },
      "execution_count": null,
      "outputs": []
    },
    {
      "cell_type": "code",
      "source": [
        "pip install transformers[torch]"
      ],
      "metadata": {
        "colab": {
          "base_uri": "https://localhost:8080/"
        },
        "id": "u4mAJyI85E_2",
        "outputId": "87651806-03ea-47e0-837e-75a4622de233"
      },
      "execution_count": null,
      "outputs": [
        {
          "output_type": "stream",
          "name": "stdout",
          "text": [
            "Requirement already satisfied: transformers[torch] in /usr/local/lib/python3.10/dist-packages (4.38.1)\n",
            "Requirement already satisfied: filelock in /usr/local/lib/python3.10/dist-packages (from transformers[torch]) (3.13.1)\n",
            "Requirement already satisfied: huggingface-hub<1.0,>=0.19.3 in /usr/local/lib/python3.10/dist-packages (from transformers[torch]) (0.20.3)\n",
            "Requirement already satisfied: numpy>=1.17 in /usr/local/lib/python3.10/dist-packages (from transformers[torch]) (1.25.2)\n",
            "Requirement already satisfied: packaging>=20.0 in /usr/local/lib/python3.10/dist-packages (from transformers[torch]) (23.2)\n",
            "Requirement already satisfied: pyyaml>=5.1 in /usr/local/lib/python3.10/dist-packages (from transformers[torch]) (6.0.1)\n",
            "Requirement already satisfied: regex!=2019.12.17 in /usr/local/lib/python3.10/dist-packages (from transformers[torch]) (2023.12.25)\n",
            "Requirement already satisfied: requests in /usr/local/lib/python3.10/dist-packages (from transformers[torch]) (2.31.0)\n",
            "Requirement already satisfied: tokenizers<0.19,>=0.14 in /usr/local/lib/python3.10/dist-packages (from transformers[torch]) (0.15.2)\n",
            "Requirement already satisfied: safetensors>=0.4.1 in /usr/local/lib/python3.10/dist-packages (from transformers[torch]) (0.4.2)\n",
            "Requirement already satisfied: tqdm>=4.27 in /usr/local/lib/python3.10/dist-packages (from transformers[torch]) (4.66.2)\n",
            "Requirement already satisfied: torch in /usr/local/lib/python3.10/dist-packages (from transformers[torch]) (2.1.0+cu121)\n",
            "Requirement already satisfied: accelerate>=0.21.0 in /usr/local/lib/python3.10/dist-packages (from transformers[torch]) (0.27.2)\n",
            "Requirement already satisfied: psutil in /usr/local/lib/python3.10/dist-packages (from accelerate>=0.21.0->transformers[torch]) (5.9.5)\n",
            "Requirement already satisfied: fsspec>=2023.5.0 in /usr/local/lib/python3.10/dist-packages (from huggingface-hub<1.0,>=0.19.3->transformers[torch]) (2023.6.0)\n",
            "Requirement already satisfied: typing-extensions>=3.7.4.3 in /usr/local/lib/python3.10/dist-packages (from huggingface-hub<1.0,>=0.19.3->transformers[torch]) (4.10.0)\n",
            "Requirement already satisfied: sympy in /usr/local/lib/python3.10/dist-packages (from torch->transformers[torch]) (1.12)\n",
            "Requirement already satisfied: networkx in /usr/local/lib/python3.10/dist-packages (from torch->transformers[torch]) (3.2.1)\n",
            "Requirement already satisfied: jinja2 in /usr/local/lib/python3.10/dist-packages (from torch->transformers[torch]) (3.1.3)\n",
            "Requirement already satisfied: triton==2.1.0 in /usr/local/lib/python3.10/dist-packages (from torch->transformers[torch]) (2.1.0)\n",
            "Requirement already satisfied: charset-normalizer<4,>=2 in /usr/local/lib/python3.10/dist-packages (from requests->transformers[torch]) (3.3.2)\n",
            "Requirement already satisfied: idna<4,>=2.5 in /usr/local/lib/python3.10/dist-packages (from requests->transformers[torch]) (3.6)\n",
            "Requirement already satisfied: urllib3<3,>=1.21.1 in /usr/local/lib/python3.10/dist-packages (from requests->transformers[torch]) (2.0.7)\n",
            "Requirement already satisfied: certifi>=2017.4.17 in /usr/local/lib/python3.10/dist-packages (from requests->transformers[torch]) (2024.2.2)\n",
            "Requirement already satisfied: MarkupSafe>=2.0 in /usr/local/lib/python3.10/dist-packages (from jinja2->torch->transformers[torch]) (2.1.5)\n",
            "Requirement already satisfied: mpmath>=0.19 in /usr/local/lib/python3.10/dist-packages (from sympy->torch->transformers[torch]) (1.3.0)\n"
          ]
        }
      ]
    },
    {
      "cell_type": "code",
      "source": [
        "pip install accelerate -U"
      ],
      "metadata": {
        "colab": {
          "base_uri": "https://localhost:8080/"
        },
        "id": "tlz_AOBz4_o1",
        "outputId": "47b5c4ca-dfd6-4c6d-fb9e-bbe072cce362"
      },
      "execution_count": null,
      "outputs": [
        {
          "output_type": "stream",
          "name": "stdout",
          "text": [
            "Requirement already satisfied: accelerate in /usr/local/lib/python3.10/dist-packages (0.27.2)\n",
            "Requirement already satisfied: numpy>=1.17 in /usr/local/lib/python3.10/dist-packages (from accelerate) (1.25.2)\n",
            "Requirement already satisfied: packaging>=20.0 in /usr/local/lib/python3.10/dist-packages (from accelerate) (23.2)\n",
            "Requirement already satisfied: psutil in /usr/local/lib/python3.10/dist-packages (from accelerate) (5.9.5)\n",
            "Requirement already satisfied: pyyaml in /usr/local/lib/python3.10/dist-packages (from accelerate) (6.0.1)\n",
            "Requirement already satisfied: torch>=1.10.0 in /usr/local/lib/python3.10/dist-packages (from accelerate) (2.1.0+cu121)\n",
            "Requirement already satisfied: huggingface-hub in /usr/local/lib/python3.10/dist-packages (from accelerate) (0.20.3)\n",
            "Requirement already satisfied: safetensors>=0.3.1 in /usr/local/lib/python3.10/dist-packages (from accelerate) (0.4.2)\n",
            "Requirement already satisfied: filelock in /usr/local/lib/python3.10/dist-packages (from torch>=1.10.0->accelerate) (3.13.1)\n",
            "Requirement already satisfied: typing-extensions in /usr/local/lib/python3.10/dist-packages (from torch>=1.10.0->accelerate) (4.10.0)\n",
            "Requirement already satisfied: sympy in /usr/local/lib/python3.10/dist-packages (from torch>=1.10.0->accelerate) (1.12)\n",
            "Requirement already satisfied: networkx in /usr/local/lib/python3.10/dist-packages (from torch>=1.10.0->accelerate) (3.2.1)\n",
            "Requirement already satisfied: jinja2 in /usr/local/lib/python3.10/dist-packages (from torch>=1.10.0->accelerate) (3.1.3)\n",
            "Requirement already satisfied: fsspec in /usr/local/lib/python3.10/dist-packages (from torch>=1.10.0->accelerate) (2023.6.0)\n",
            "Requirement already satisfied: triton==2.1.0 in /usr/local/lib/python3.10/dist-packages (from torch>=1.10.0->accelerate) (2.1.0)\n",
            "Requirement already satisfied: requests in /usr/local/lib/python3.10/dist-packages (from huggingface-hub->accelerate) (2.31.0)\n",
            "Requirement already satisfied: tqdm>=4.42.1 in /usr/local/lib/python3.10/dist-packages (from huggingface-hub->accelerate) (4.66.2)\n",
            "Requirement already satisfied: MarkupSafe>=2.0 in /usr/local/lib/python3.10/dist-packages (from jinja2->torch>=1.10.0->accelerate) (2.1.5)\n",
            "Requirement already satisfied: charset-normalizer<4,>=2 in /usr/local/lib/python3.10/dist-packages (from requests->huggingface-hub->accelerate) (3.3.2)\n",
            "Requirement already satisfied: idna<4,>=2.5 in /usr/local/lib/python3.10/dist-packages (from requests->huggingface-hub->accelerate) (3.6)\n",
            "Requirement already satisfied: urllib3<3,>=1.21.1 in /usr/local/lib/python3.10/dist-packages (from requests->huggingface-hub->accelerate) (2.0.7)\n",
            "Requirement already satisfied: certifi>=2017.4.17 in /usr/local/lib/python3.10/dist-packages (from requests->huggingface-hub->accelerate) (2024.2.2)\n",
            "Requirement already satisfied: mpmath>=0.19 in /usr/local/lib/python3.10/dist-packages (from sympy->torch>=1.10.0->accelerate) (1.3.0)\n"
          ]
        }
      ]
    },
    {
      "cell_type": "code",
      "source": [
        "from transformers import TrainingArguments, Trainer\n",
        "\n",
        "learning_rate = 2e-5  # Example: Start with a commonly recommended LR for fine-tuning\n",
        "num_train_epochs = 15  # Adjust based on your dataset size and model performance\n",
        "per_device_train_batch_size = 4  # Adjust based on your hardware\n",
        "per_device_eval_batch_size = 4\n",
        "\n",
        "trainer_args = TrainingArguments(\n",
        "    output_dir='./results',\n",
        "    num_train_epochs=num_train_epochs,\n",
        "    per_device_train_batch_size=per_device_train_batch_size,\n",
        "    per_device_eval_batch_size=per_device_eval_batch_size,\n",
        "    warmup_steps=400,\n",
        "    weight_decay=0.01,\n",
        "    logging_dir='./logs',\n",
        "    logging_steps=50,\n",
        "    evaluation_strategy='steps',\n",
        "    eval_steps=1000,\n",
        "    learning_rate=learning_rate,\n",
        "    save_strategy='no',\n",
        "    gradient_accumulation_steps=8,\n",
        ")"
      ],
      "metadata": {
        "id": "sR3c2yz_oyhA"
      },
      "execution_count": null,
      "outputs": []
    },
    {
      "cell_type": "code",
      "source": [
        "trainer = Trainer(model=model_pegasus, args=trainer_args,\n",
        "                  tokenizer=tokenizer, data_collator=seq2seq_data_collator,\n",
        "                  train_dataset=train_data,\n",
        "                  eval_dataset=validation_data)"
      ],
      "metadata": {
        "id": "zEXOoPBroyeT"
      },
      "execution_count": null,
      "outputs": []
    },
    {
      "cell_type": "code",
      "source": [
        "import torch\n",
        "import gc\n",
        "torch.cuda.empty_cache()\n",
        "gc.collect()"
      ],
      "metadata": {
        "colab": {
          "base_uri": "https://localhost:8080/"
        },
        "id": "VQYqMKzbxC-w",
        "outputId": "79b3b8eb-5eb3-44f9-f3f2-e855d3290fe1"
      },
      "execution_count": null,
      "outputs": [
        {
          "output_type": "execute_result",
          "data": {
            "text/plain": [
              "89"
            ]
          },
          "metadata": {},
          "execution_count": 19
        }
      ]
    },
    {
      "cell_type": "code",
      "source": [
        "trainer.train()"
      ],
      "metadata": {
        "colab": {
          "base_uri": "https://localhost:8080/",
          "height": 110
        },
        "id": "XGXbPvw0oybf",
        "outputId": "7bf0d52b-2ea1-4f70-c216-dace9f7de6a3"
      },
      "execution_count": null,
      "outputs": [
        {
          "output_type": "display_data",
          "data": {
            "text/plain": [
              "<IPython.core.display.HTML object>"
            ],
            "text/html": [
              "\n",
              "    <div>\n",
              "      \n",
              "      <progress value='30' max='30' style='width:300px; height:20px; vertical-align: middle;'></progress>\n",
              "      [30/30 02:18, Epoch 12/15]\n",
              "    </div>\n",
              "    <table border=\"1\" class=\"dataframe\">\n",
              "  <thead>\n",
              " <tr style=\"text-align: left;\">\n",
              "      <th>Step</th>\n",
              "      <th>Training Loss</th>\n",
              "      <th>Validation Loss</th>\n",
              "    </tr>\n",
              "  </thead>\n",
              "  <tbody>\n",
              "  </tbody>\n",
              "</table><p>"
            ]
          },
          "metadata": {}
        },
        {
          "output_type": "execute_result",
          "data": {
            "text/plain": [
              "TrainOutput(global_step=30, training_loss=4.598560078938802, metrics={'train_runtime': 143.9486, 'train_samples_per_second': 7.815, 'train_steps_per_second': 0.208, 'total_flos': 2739212264669184.0, 'train_loss': 4.598560078938802, 'epoch': 12.63})"
            ]
          },
          "metadata": {},
          "execution_count": 20
        }
      ]
    },
    {
      "cell_type": "code",
      "source": [
        "test_data = test_dataset.map(convert_examples_to_features, batched = True)"
      ],
      "metadata": {
        "id": "q5zJSxslxSpi",
        "colab": {
          "base_uri": "https://localhost:8080/",
          "height": 49,
          "referenced_widgets": [
            "6cd6a720684a4ab9ad3a854b8e9b378f",
            "d8da7a6bcbc74159a4224a1ea4d071b3",
            "5975edae349847ab8cb4c95967804a77",
            "3d945797be6a40b6911a1c4cbdf99f7a",
            "9af6493cbb7e43e8a707f1a26e7774be",
            "ecc66f591da84852b7452e683e91a7e8",
            "3577c13210994ae592f1d0a1e21df4a1",
            "4c4196d446da420fbefe9561d3ac989f",
            "97e22c1cb17f49aa9670113f7cdc0d22",
            "aec19388c98f4c2fb52af62f61b33466",
            "309c74df843849e59e270e9f54dca4db"
          ]
        },
        "outputId": "4a45e686-1310-4fd8-ff55-0acbda579e44"
      },
      "execution_count": null,
      "outputs": [
        {
          "output_type": "display_data",
          "data": {
            "text/plain": [
              "Map:   0%|          | 0/9 [00:00<?, ? examples/s]"
            ],
            "application/vnd.jupyter.widget-view+json": {
              "version_major": 2,
              "version_minor": 0,
              "model_id": "6cd6a720684a4ab9ad3a854b8e9b378f"
            }
          },
          "metadata": {}
        }
      ]
    },
    {
      "cell_type": "code",
      "source": [
        "rouge_metric = load_metric('rouge')\n",
        "\n",
        "rouge_names = [\"rouge1\", \"rouge2\", \"rougeL\", \"rougeLsum\"]\n",
        "\n",
        "score = calculate_metric_on_test_ds(\n",
        "   test_data , rouge_metric, trainer.model, tokenizer, batch_size = 2, column_text = 'Transcript', column_summary= 'Abstract'\n",
        ")\n",
        "\n",
        "rouge_dict = dict((rn, score[rn].mid.fmeasure ) for rn in rouge_names )\n",
        "\n",
        "pd.DataFrame(rouge_dict, index = [f'pegasus'] )"
      ],
      "metadata": {
        "id": "dQxGAkI8oyYz",
        "colab": {
          "base_uri": "https://localhost:8080/",
          "height": 222
        },
        "outputId": "bc1261cf-1c54-44af-a00d-8e80ce5337a3"
      },
      "execution_count": null,
      "outputs": [
        {
          "output_type": "stream",
          "name": "stderr",
          "text": [
            "<ipython-input-22-8947da0a20e8>:1: FutureWarning: load_metric is deprecated and will be removed in the next major version of datasets. Use 'evaluate.load' instead, from the new library 🤗 Evaluate: https://huggingface.co/docs/evaluate\n",
            "  rouge_metric = load_metric('rouge')\n",
            "/usr/local/lib/python3.10/dist-packages/datasets/load.py:756: FutureWarning: The repository for rouge contains custom code which must be executed to correctly load the metric. You can inspect the repository content at https://raw.githubusercontent.com/huggingface/datasets/2.18.0/metrics/rouge/rouge.py\n",
            "You can avoid this message in future by passing the argument `trust_remote_code=True`.\n",
            "Passing `trust_remote_code=True` will be mandatory to load this metric from the next major release of `datasets`.\n",
            "  warnings.warn(\n",
            "100%|██████████| 5/5 [00:09<00:00,  1.96s/it]\n"
          ]
        },
        {
          "output_type": "execute_result",
          "data": {
            "text/plain": [
              "          rouge1  rouge2    rougeL  rougeLsum\n",
              "pegasus  0.02061     0.0  0.020454   0.020567"
            ],
            "text/html": [
              "\n",
              "  <div id=\"df-def99be1-cd0a-402e-9c70-47f32823ea5f\" class=\"colab-df-container\">\n",
              "    <div>\n",
              "<style scoped>\n",
              "    .dataframe tbody tr th:only-of-type {\n",
              "        vertical-align: middle;\n",
              "    }\n",
              "\n",
              "    .dataframe tbody tr th {\n",
              "        vertical-align: top;\n",
              "    }\n",
              "\n",
              "    .dataframe thead th {\n",
              "        text-align: right;\n",
              "    }\n",
              "</style>\n",
              "<table border=\"1\" class=\"dataframe\">\n",
              "  <thead>\n",
              "    <tr style=\"text-align: right;\">\n",
              "      <th></th>\n",
              "      <th>rouge1</th>\n",
              "      <th>rouge2</th>\n",
              "      <th>rougeL</th>\n",
              "      <th>rougeLsum</th>\n",
              "    </tr>\n",
              "  </thead>\n",
              "  <tbody>\n",
              "    <tr>\n",
              "      <th>pegasus</th>\n",
              "      <td>0.02061</td>\n",
              "      <td>0.0</td>\n",
              "      <td>0.020454</td>\n",
              "      <td>0.020567</td>\n",
              "    </tr>\n",
              "  </tbody>\n",
              "</table>\n",
              "</div>\n",
              "    <div class=\"colab-df-buttons\">\n",
              "\n",
              "  <div class=\"colab-df-container\">\n",
              "    <button class=\"colab-df-convert\" onclick=\"convertToInteractive('df-def99be1-cd0a-402e-9c70-47f32823ea5f')\"\n",
              "            title=\"Convert this dataframe to an interactive table.\"\n",
              "            style=\"display:none;\">\n",
              "\n",
              "  <svg xmlns=\"http://www.w3.org/2000/svg\" height=\"24px\" viewBox=\"0 -960 960 960\">\n",
              "    <path d=\"M120-120v-720h720v720H120Zm60-500h600v-160H180v160Zm220 220h160v-160H400v160Zm0 220h160v-160H400v160ZM180-400h160v-160H180v160Zm440 0h160v-160H620v160ZM180-180h160v-160H180v160Zm440 0h160v-160H620v160Z\"/>\n",
              "  </svg>\n",
              "    </button>\n",
              "\n",
              "  <style>\n",
              "    .colab-df-container {\n",
              "      display:flex;\n",
              "      gap: 12px;\n",
              "    }\n",
              "\n",
              "    .colab-df-convert {\n",
              "      background-color: #E8F0FE;\n",
              "      border: none;\n",
              "      border-radius: 50%;\n",
              "      cursor: pointer;\n",
              "      display: none;\n",
              "      fill: #1967D2;\n",
              "      height: 32px;\n",
              "      padding: 0 0 0 0;\n",
              "      width: 32px;\n",
              "    }\n",
              "\n",
              "    .colab-df-convert:hover {\n",
              "      background-color: #E2EBFA;\n",
              "      box-shadow: 0px 1px 2px rgba(60, 64, 67, 0.3), 0px 1px 3px 1px rgba(60, 64, 67, 0.15);\n",
              "      fill: #174EA6;\n",
              "    }\n",
              "\n",
              "    .colab-df-buttons div {\n",
              "      margin-bottom: 4px;\n",
              "    }\n",
              "\n",
              "    [theme=dark] .colab-df-convert {\n",
              "      background-color: #3B4455;\n",
              "      fill: #D2E3FC;\n",
              "    }\n",
              "\n",
              "    [theme=dark] .colab-df-convert:hover {\n",
              "      background-color: #434B5C;\n",
              "      box-shadow: 0px 1px 3px 1px rgba(0, 0, 0, 0.15);\n",
              "      filter: drop-shadow(0px 1px 2px rgba(0, 0, 0, 0.3));\n",
              "      fill: #FFFFFF;\n",
              "    }\n",
              "  </style>\n",
              "\n",
              "    <script>\n",
              "      const buttonEl =\n",
              "        document.querySelector('#df-def99be1-cd0a-402e-9c70-47f32823ea5f button.colab-df-convert');\n",
              "      buttonEl.style.display =\n",
              "        google.colab.kernel.accessAllowed ? 'block' : 'none';\n",
              "\n",
              "      async function convertToInteractive(key) {\n",
              "        const element = document.querySelector('#df-def99be1-cd0a-402e-9c70-47f32823ea5f');\n",
              "        const dataTable =\n",
              "          await google.colab.kernel.invokeFunction('convertToInteractive',\n",
              "                                                    [key], {});\n",
              "        if (!dataTable) return;\n",
              "\n",
              "        const docLinkHtml = 'Like what you see? Visit the ' +\n",
              "          '<a target=\"_blank\" href=https://colab.research.google.com/notebooks/data_table.ipynb>data table notebook</a>'\n",
              "          + ' to learn more about interactive tables.';\n",
              "        element.innerHTML = '';\n",
              "        dataTable['output_type'] = 'display_data';\n",
              "        await google.colab.output.renderOutput(dataTable, element);\n",
              "        const docLink = document.createElement('div');\n",
              "        docLink.innerHTML = docLinkHtml;\n",
              "        element.appendChild(docLink);\n",
              "      }\n",
              "    </script>\n",
              "  </div>\n",
              "\n",
              "\n",
              "    </div>\n",
              "  </div>\n"
            ],
            "application/vnd.google.colaboratory.intrinsic+json": {
              "type": "dataframe",
              "summary": "{\n  \"name\": \"pd\",\n  \"rows\": 1,\n  \"fields\": [\n    {\n      \"column\": \"rouge1\",\n      \"properties\": {\n        \"dtype\": \"number\",\n        \"std\": null,\n        \"min\": 0.020610398267517312,\n        \"max\": 0.020610398267517312,\n        \"num_unique_values\": 1,\n        \"samples\": [\n          0.020610398267517312\n        ],\n        \"semantic_type\": \"\",\n        \"description\": \"\"\n      }\n    },\n    {\n      \"column\": \"rouge2\",\n      \"properties\": {\n        \"dtype\": \"number\",\n        \"std\": null,\n        \"min\": 0.0,\n        \"max\": 0.0,\n        \"num_unique_values\": 1,\n        \"samples\": [\n          0.0\n        ],\n        \"semantic_type\": \"\",\n        \"description\": \"\"\n      }\n    },\n    {\n      \"column\": \"rougeL\",\n      \"properties\": {\n        \"dtype\": \"number\",\n        \"std\": null,\n        \"min\": 0.020454374002604133,\n        \"max\": 0.020454374002604133,\n        \"num_unique_values\": 1,\n        \"samples\": [\n          0.020454374002604133\n        ],\n        \"semantic_type\": \"\",\n        \"description\": \"\"\n      }\n    },\n    {\n      \"column\": \"rougeLsum\",\n      \"properties\": {\n        \"dtype\": \"number\",\n        \"std\": null,\n        \"min\": 0.02056691899857901,\n        \"max\": 0.02056691899857901,\n        \"num_unique_values\": 1,\n        \"samples\": [\n          0.02056691899857901\n        ],\n        \"semantic_type\": \"\",\n        \"description\": \"\"\n      }\n    }\n  ]\n}"
            }
          },
          "metadata": {},
          "execution_count": 22
        }
      ]
    },
    {
      "cell_type": "code",
      "source": [
        "model_pegasus.save_pretrained(\"pegasus-model\")"
      ],
      "metadata": {
        "id": "K1MD6q1zoyV4",
        "colab": {
          "base_uri": "https://localhost:8080/"
        },
        "outputId": "294d67cc-fe36-4712-b228-30dd3a184f89"
      },
      "execution_count": null,
      "outputs": [
        {
          "output_type": "stream",
          "name": "stderr",
          "text": [
            "Some non-default generation parameters are set in the model config. These should go into a GenerationConfig file (https://huggingface.co/docs/transformers/generation_strategies#save-a-custom-decoding-strategy-with-your-model) instead. This warning will be raised to an exception in v4.41.\n",
            "Non-default generation parameters: {'max_length': 128, 'min_length': 32, 'num_beams': 8, 'length_penalty': 0.8, 'forced_eos_token_id': 1}\n"
          ]
        }
      ]
    },
    {
      "cell_type": "code",
      "source": [
        "tokenizer.save_pretrained(\"tokenizer\")"
      ],
      "metadata": {
        "id": "D0qq7T5doyP5",
        "colab": {
          "base_uri": "https://localhost:8080/"
        },
        "outputId": "d4940aa0-e27a-4707-fa1c-bd84b4391520"
      },
      "execution_count": null,
      "outputs": [
        {
          "output_type": "execute_result",
          "data": {
            "text/plain": [
              "('tokenizer/tokenizer_config.json',\n",
              " 'tokenizer/special_tokens_map.json',\n",
              " 'tokenizer/spiece.model',\n",
              " 'tokenizer/added_tokens.json',\n",
              " 'tokenizer/tokenizer.json')"
            ]
          },
          "metadata": {},
          "execution_count": 24
        }
      ]
    },
    {
      "cell_type": "code",
      "source": [
        "def generate_summary(text, model, tokenizer, max_output_length=500):\n",
        "    device = \"cuda\" if torch.cuda.is_available() else \"cpu\"\n",
        "    model.to(device)\n",
        "    # Preprocess the text\n",
        "    input_encodings = tokenizer(text, return_tensors=\"pt\", truncation=True, padding=\"max_length\")\n",
        "\n",
        "    # Generate the summary\n",
        "    summary_ids = model.generate(input_encodings['input_ids'].to(device),\n",
        "                                 attention_mask=input_encodings['attention_mask'].to(device),\n",
        "                                 max_length=max_output_length,\n",
        "                                 num_beams=6,  # Increased beam width\n",
        "                                 temperature=2,  # Adjusted temperature\n",
        "                                 repetition_penalty=1,  # Increased repetition penalty\n",
        "                                 length_penalty=10,  # Adjust length penalty\n",
        "                                 early_stopping=True)\n",
        "\n",
        "    # Decode the summary\n",
        "    summary = tokenizer.decode(summary_ids[0], skip_special_tokens=True)\n",
        "\n",
        "    return summary"
      ],
      "metadata": {
        "id": "RabDLFqkvpYO"
      },
      "execution_count": null,
      "outputs": []
    },
    {
      "cell_type": "code",
      "source": [
        "generated_summaries = [generate_summary(text, model_pegasus, tokenizer) for text in test_dataset['Transcript']]"
      ],
      "metadata": {
        "id": "nvXfi5XF_Hnx"
      },
      "execution_count": null,
      "outputs": []
    },
    {
      "cell_type": "code",
      "source": [
        "for generated in generated_summaries:\n",
        "    print(\"-------\")\n",
        "    print(generated)"
      ],
      "metadata": {
        "colab": {
          "base_uri": "https://localhost:8080/"
        },
        "id": "GCxjPLUpCJ6U",
        "outputId": "0c01e7a1-14c7-49b4-956c-ae29970af03c"
      },
      "execution_count": null,
      "outputs": [
        {
          "output_type": "stream",
          "name": "stdout",
          "text": [
            "-------\n",
            "We're trying to lock ourselves into a particular kind of technology.<n>We don't look at the technology, but at end of the day we don't look at the technology.<n>i think twenty five to thirty five is is is fair to say that more than half your group are willing to at least try and use your technology.\n",
            "-------\n",
            "This is the first in a series of in-depth interviews with leading design experts.<n>In the first part of the series we look at how to design a new product.<n>The second part is a look at the technical aspects of a new product.\n",
            "-------\n",
            "Play-doh is designed to be used by left-handed people.<n>Play-doh is made out of rubber and comes with a mute button.<n>Play-doh comes in at under ten euros a unit.\n",
            "-------\n",
            "This week we look at the design of the mot mote remote control.<n>We go through the minutes of the last meeting and see which decisions were made.<n>We also go through the finance evaluation of the of the cost of the thing.\n",
            "-------\n",
            "kate, kate, kate, kate, kate, kate.<n>Kate, kate, kate, kate kate.<n>Kate,.<n>Kate, kate,.\n",
            "-------\n",
            "This is the result of a meeting with two designers to discuss the prototype presentation.<n>The designers were given a budget to work with.<n>They decided on a mango as the colour.<n>for the presentation.\n",
            "-------\n",
            "kendra's remote control design group met to discuss the design of the company's new remote control.<n>The group decided that the existing buttons were too expensive and ugly.<n>The group also decided that speech recognition should be used instead of buttons.<n>The group decided that a long lasting battery was the best option.\n",
            "-------\n",
            "We discuss the evaluation criteria and the financing of the remote.<n>The remote is powered by battery, so we give it a number of components.<n>It's powered by battery, so we give it a number of components.\n",
            "-------\n",
            "This is the final evaluation of our product. how we are going to give it a rating.<n>how it will meet our standard what standard will we give to these products.<n>how it meets our standard what standard will we give it.\n"
          ]
        }
      ]
    },
    {
      "cell_type": "code",
      "source": [
        "from rouge_score import rouge_scorer\n",
        "\n",
        "scorer = rouge_scorer.RougeScorer(['rouge1', 'rouge2', 'rougeL'], use_stemmer=True)\n",
        "scores = [scorer.score(orig, gen) for orig, gen in zip(test_dataset['Abstract'], generated_summaries)]\n",
        "\n",
        "# Example to print ROUGE-1 scores\n",
        "for score in scores:\n",
        "    print(f\"ROUGE-1: {score['rouge1'].fmeasure:.4f}\")\n"
      ],
      "metadata": {
        "colab": {
          "base_uri": "https://localhost:8080/"
        },
        "id": "Y5pDTtMPA25n",
        "outputId": "e955d065-b5ef-4934-bcfb-6dcd928cc829"
      },
      "execution_count": null,
      "outputs": [
        {
          "output_type": "stream",
          "name": "stdout",
          "text": [
            "ROUGE-1: 0.1058\n",
            "ROUGE-1: 0.1731\n",
            "ROUGE-1: 0.1279\n",
            "ROUGE-1: 0.2430\n",
            "ROUGE-1: 0.0000\n",
            "ROUGE-1: 0.2060\n",
            "ROUGE-1: 0.2255\n",
            "ROUGE-1: 0.1845\n",
            "ROUGE-1: 0.0966\n"
          ]
        }
      ]
    },
    {
      "cell_type": "code",
      "source": [],
      "metadata": {
        "id": "nj6w9XLtXIoJ"
      },
      "execution_count": null,
      "outputs": []
    }
  ]
}